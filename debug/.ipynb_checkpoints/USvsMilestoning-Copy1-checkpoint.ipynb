{
 "cells": [
  {
   "cell_type": "code",
   "execution_count": 1,
   "metadata": {},
   "outputs": [
    {
     "name": "stdout",
     "output_type": "stream",
     "text": [
      "/data/lyna/Milestone_Error_Analysis_Testing\n"
     ]
    }
   ],
   "source": [
    "import numpy as np\n",
    "import pandas as pd\n",
    "import matplotlib\n",
    "\n",
    "from matplotlib import pyplot as plt\n",
    "import seaborn as sns\n",
    "\n",
    "import plotly as ply\n",
    "\n",
    "import tqdm\n",
    "import gc\n",
    "import sys\n",
    "import os\n",
    "\n",
    "import scipy as sp\n",
    "\n",
    "import json\n",
    "\n",
    "%cd /data/lyna/Milestone_Error_Analysis_Testing\n",
    "import analysis_functions"
   ]
  },
  {
   "cell_type": "code",
   "execution_count": 80,
   "metadata": {},
   "outputs": [],
   "source": [
    "def potFun(x):\n",
    "    return(0.1*((1/2000)*(x)**6-(x)**2))\n",
    "def potGradFun(x):\n",
    "    return(0.1*((6.0/2000)*(x)**5-2.0*(x)))"
   ]
  },
  {
   "cell_type": "code",
   "execution_count": 21,
   "metadata": {},
   "outputs": [
    {
     "name": "stderr",
     "output_type": "stream",
     "text": [
      "/cm/shared/apps/jupyter/11.0.0/lib/python3.7/site-packages/ipykernel_launcher.py:17: TqdmDeprecationWarning: This function will be removed in tqdm==5.0.0\n",
      "Please use `tqdm.notebook.tqdm` instead of `tqdm.tqdm_notebook`\n"
     ]
    },
    {
     "data": {
      "application/vnd.jupyter.widget-view+json": {
       "model_id": "783272c3de2c4a8d9035303bdf97abc1",
       "version_major": 2,
       "version_minor": 0
      },
      "text/plain": [
       "HBox(children=(HTML(value=''), FloatProgress(value=0.0, max=1000000.0), HTML(value='')))"
      ]
     },
     "metadata": {},
     "output_type": "display_data"
    },
    {
     "name": "stdout",
     "output_type": "stream",
     "text": [
      "1000000\n"
     ]
    },
    {
     "name": "stderr",
     "output_type": "stream",
     "text": [
      "/cm/shared/apps/jupyter/11.0.0/lib/python3.7/site-packages/ipykernel_launcher.py:25: TqdmDeprecationWarning: This function will be removed in tqdm==5.0.0\n",
      "Please use `tqdm.notebook.tqdm` instead of `tqdm.tqdm_notebook`\n"
     ]
    },
    {
     "data": {
      "application/vnd.jupyter.widget-view+json": {
       "model_id": "c9c6f515456e4393aab6274dbbbafd8c",
       "version_major": 2,
       "version_minor": 0
      },
      "text/plain": [
       "HBox(children=(HTML(value=''), FloatProgress(value=0.0, max=2000000.0), HTML(value='')))"
      ]
     },
     "metadata": {},
     "output_type": "display_data"
    },
    {
     "name": "stdout",
     "output_type": "stream",
     "text": [
      "2000000\n"
     ]
    }
   ],
   "source": [
    "# Run brute-force DB \n",
    "diffCoef=.0282*310.15/298.15 #Approximate scaling to body temperature \n",
    "bd_Sim=analysis_functions.Simple_1D_BD_Sim(potGradFun)\n",
    "bd_Sim.set_parameters(dict(\n",
    "    diffusionConstant=diffCoef,\n",
    "    vmax=15.0,\n",
    "    trajectorySnapshotRate=10,\n",
    "    verbose=True,\n",
    "    timestep=0.5\n",
    "))\n",
    "\n",
    "nsteps=1000000 #2000k steps = 0.5 us\n",
    "bd_Sim.set_x0(-6.)\n",
    "trajData=bd_Sim.run_sim(\n",
    "    nsteps=nsteps,\n",
    "    giveVelocities=True,\n",
    "    pbar=tqdm.tqdm_notebook(total=nsteps))\n",
    "\n",
    "\n",
    "nsteps=2000000 #2000k steps = 1 us\n",
    "bd_Sim.set_x0(6.)\n",
    "trajData2=bd_Sim.run_sim(\n",
    "    nsteps=nsteps,\n",
    "    giveVelocities=True,\n",
    "    pbar=tqdm.tqdm_notebook(total=nsteps))\n"
   ]
  },
  {
   "cell_type": "code",
   "execution_count": 78,
   "metadata": {},
   "outputs": [
    {
     "name": "stdout",
     "output_type": "stream",
     "text": [
      "binEdges [-8. -6. -4. -2.  0.  2.  4.  6.  8.] binCenters [-7. -5. -3. -1.  1.  3.  5.  7.]\n",
      "normalized histogram [0.03276 0.32111 0.11549 0.03474 0.03446 0.11362 0.31535 0.03247]\n",
      "pmf [ 1.40588191 -0.          0.62983878  1.36973762  1.37472196  0.63989329\n",
      "  0.01114851  1.41135846]\n"
     ]
    },
    {
     "data": {
      "image/png": "[encoded data removed]",
      "text/plain": [
       "<Figure size 432x288 with 1 Axes>"
      ]
     },
     "metadata": {
      "needs_background": "light"
     },
     "output_type": "display_data"
    },
    {
     "data": {
      "image/png": "[encoded data removed]",
      "text/plain": [
       "<Figure size 432x288 with 1 Axes>"
      ]
     },
     "metadata": {
      "needs_background": "light"
     },
     "output_type": "display_data"
    }
   ],
   "source": [
    "# Plot brute-force BD data and PMF\n",
    "binEdges=np.linspace(-8,8,9)\n",
    "binCenters=(binEdges[:-1]+binEdges[1:])/2.\n",
    "print(\"binEdges\", binEdges, \"binCenters\",binCenters)\n",
    "\n",
    "histogram=np.histogram( a=trajData['trajectory'],bins=binEdges)\n",
    "normHist=histogram[0]/np.sum(histogram[0])\n",
    "print(\"normalized histogram\", normHist)\n",
    "print(\"pmf\", -kbT*np.log((normHist)/np.max(normHist)))\n",
    "\n",
    "sns.histplot(trajData['trajectory'],bins=binEdges)\n",
    "plt.show()\n",
    "sns.scatterplot(x=binCenters, y=-kbT*np.log((normHist)/np.max(normHist)), color='r', label=\"raw BD PMF\")\n",
    "sns.scatterplot(x=binCenters,y=potFun(binCenters)-np.min(potFun(binCenters)),label='U(X) (kcal/mol)', alpha=0.5)\n",
    "plt.show()"
   ]
  },
  {
   "cell_type": "code",
   "execution_count": 119,
   "metadata": {},
   "outputs": [],
   "source": [
    "\n",
    "\n",
    "def gen_flat_bottom_harmonic_window_potFun(potFun,win_lhs,win_rhs,kval):\n",
    "    return(\n",
    "        lambda x: potFun(x)+.5*kval * ( (x<win_lhs)*(win_lhs-x)**2 + (x>win_rhs)*(win_rhs-x)**2 )\n",
    "    )\n",
    "def gen_flat_bottom_harmonic_window_potGradFun(potGradFun,win_lhs,win_rhs,kval):\n",
    "    return(\n",
    "        lambda x: potGradFun(x)-kval * ( (x<win_lhs)*(win_lhs-x) + (x>win_rhs)*(win_rhs-x) )\n",
    "    )\n",
    "\n",
    "\n",
    "\n",
    "def only_flat_bottom_harmonic_window_potFun(potFun,win_lhs,win_rhs,kval):\n",
    "    return(\n",
    "        lambda x: .5*kval * ( (x<win_lhs)*(win_lhs-x)**2 + (x>win_rhs)*(win_rhs-x)**2 )\n",
    "    )\n",
    "def only_flat_bottom_harmonic_window_potGradFun(potGradFun,win_lhs,win_rhs,kval):\n",
    "    return(\n",
    "        lambda x: -kval * ( (x<win_lhs)*(win_lhs-x) + (x>win_rhs)*(win_rhs-x) )\n",
    "    )\n"
   ]
  },
  {
   "cell_type": "code",
   "execution_count": 123,
   "metadata": {},
   "outputs": [
    {
     "name": "stdout",
     "output_type": "stream",
     "text": [
      "binEdges [-8. -6. -4. -2.  0.  2.  4.  6.  8.] binCenters [-7. -5. -3. -1.  1.  3.  5.  7.]\n",
      "[-7. -5. -3. -1.  1.  3.  5.  7.]\n"
     ]
    }
   ],
   "source": [
    "# Setup milestone potential\n",
    "\n",
    "binEdges=np.linspace(-8,8,9)\n",
    "binCenters=(binEdges[:-1]+binEdges[1:])/2.\n",
    "print(\"binEdges\", binEdges, \"binCenters\",binCenters)\n",
    "\n",
    "symm_window_edges=binEdges\n",
    "symm_window_lhs=symm_window_edges[:-1]\n",
    "symm_window_rhs=symm_window_edges[1:]\n",
    "symm_window_centers=binCenters\n",
    "symm_window_kVals=np.array([100.]*len(symm_window_centers)) # force constant kVal=100\n",
    "print(symm_window_centers)\n",
    "\n",
    "symm_window_potFuns=[\n",
    "    gen_flat_bottom_harmonic_window_potFun(potFun,wlhs,wrhs,wk) \\\n",
    "    for wlhs,wrhs,wk in np.array([\n",
    "        symm_window_lhs,\n",
    "        symm_window_rhs,\n",
    "        symm_window_kVals\n",
    "    ]).T\n",
    "]\n",
    "\n",
    "symm_window_potGradFuns=[\n",
    "    gen_flat_bottom_harmonic_window_potGradFun(potGradFun,wlhs,wrhs,wk) \\\n",
    "    for wlhs,wrhs,wk in np.array([\n",
    "        symm_window_lhs,\n",
    "        symm_window_rhs,\n",
    "        symm_window_kVals\n",
    "    ]).T\n",
    "]\n",
    "\n"
   ]
  },
  {
   "cell_type": "code",
   "execution_count": 124,
   "metadata": {},
   "outputs": [
    {
     "name": "stdout",
     "output_type": "stream",
     "text": [
      "win 0\n",
      "win 1\n",
      "win 2\n",
      "win 3\n",
      "win 4\n",
      "win 5\n",
      "win 6\n",
      "win 7\n"
     ]
    },
    {
     "data": {
      "image/png": "[encoded data removed]",
      "text/plain": [
       "<Figure size 432x288 with 1 Axes>"
      ]
     },
     "metadata": {
      "needs_background": "light"
     },
     "output_type": "display_data"
    }
   ],
   "source": [
    "# plot milestone potential before running\n",
    "\n",
    "winPot=[]\n",
    "winPotGrad=[]\n",
    "for win in np.arange(0,len(symm_window_centers)):\n",
    "    print(\"win\",win)\n",
    "    winPot=symm_window_potFuns[win]\n",
    "    winPotGrad=symm_window_potGradFuns[win]\n",
    "    \n",
    "    binEdges=np.linspace(-8,8,130)\n",
    "    binCenters=(binEdges[:-1]+binEdges[1:])/2.\n",
    "    xgrid=binCenters\n",
    "\n",
    "    sns.lineplot(\n",
    "        x=xgrid,\n",
    "        y=winPot(xgrid),\n",
    "        #label='symm_win_%02g_U(x)'%win\n",
    "    )\n",
    "    \n",
    "\n",
    "plt.xlabel('X (Å)')\n",
    "plt.ylim(-10,60)\n",
    "plt.show()"
   ]
  },
  {
   "cell_type": "code",
   "execution_count": 126,
   "metadata": {
    "scrolled": true
   },
   "outputs": [
    {
     "name": "stdout",
     "output_type": "stream",
     "text": [
      "kbT 0.6159191312499999\n",
      "symm_window_centers [-7. -5. -3. -1.  1.  3.  5.  7.]\n"
     ]
    },
    {
     "name": "stderr",
     "output_type": "stream",
     "text": [
      "/cm/shared/apps/jupyter/11.0.0/lib/python3.7/site-packages/ipykernel_launcher.py:25: TqdmDeprecationWarning: This function will be removed in tqdm==5.0.0\n",
      "Please use `tqdm.notebook.tqdm` instead of `tqdm.tqdm_notebook`\n"
     ]
    },
    {
     "data": {
      "application/vnd.jupyter.widget-view+json": {
       "model_id": "eeb222e0307b4cbdb2fcc5a63f0cc2a8",
       "version_major": 2,
       "version_minor": 0
      },
      "text/plain": [
       "HBox(children=(HTML(value=''), FloatProgress(value=0.0, max=500000.0), HTML(value='')))"
      ]
     },
     "metadata": {},
     "output_type": "display_data"
    },
    {
     "name": "stdout",
     "output_type": "stream",
     "text": [
      "500000\n"
     ]
    },
    {
     "name": "stderr",
     "output_type": "stream",
     "text": [
      "/home/lyna/.local/lib/python3.7/site-packages/seaborn/distributions.py:2551: FutureWarning: `distplot` is a deprecated function and will be removed in a future version. Please adapt your code to use either `displot` (a figure-level function with similar flexibility) or `histplot` (an axes-level function for histograms).\n",
      "  warnings.warn(msg, FutureWarning)\n"
     ]
    },
    {
     "name": "stdout",
     "output_type": "stream",
     "text": [
      "\n"
     ]
    },
    {
     "name": "stderr",
     "output_type": "stream",
     "text": [
      "/cm/shared/apps/jupyter/11.0.0/lib/python3.7/site-packages/ipykernel_launcher.py:25: TqdmDeprecationWarning: This function will be removed in tqdm==5.0.0\n",
      "Please use `tqdm.notebook.tqdm` instead of `tqdm.tqdm_notebook`\n"
     ]
    },
    {
     "data": {
      "application/vnd.jupyter.widget-view+json": {
       "model_id": "a08bd12cd2a0461698d3d6f1ab29c1da",
       "version_major": 2,
       "version_minor": 0
      },
      "text/plain": [
       "HBox(children=(HTML(value=''), FloatProgress(value=0.0, max=500000.0), HTML(value='')))"
      ]
     },
     "metadata": {},
     "output_type": "display_data"
    },
    {
     "name": "stdout",
     "output_type": "stream",
     "text": [
      "500000\n"
     ]
    },
    {
     "name": "stderr",
     "output_type": "stream",
     "text": [
      "/home/lyna/.local/lib/python3.7/site-packages/seaborn/distributions.py:2551: FutureWarning: `distplot` is a deprecated function and will be removed in a future version. Please adapt your code to use either `displot` (a figure-level function with similar flexibility) or `histplot` (an axes-level function for histograms).\n",
      "  warnings.warn(msg, FutureWarning)\n"
     ]
    },
    {
     "name": "stdout",
     "output_type": "stream",
     "text": [
      "\n"
     ]
    },
    {
     "name": "stderr",
     "output_type": "stream",
     "text": [
      "/cm/shared/apps/jupyter/11.0.0/lib/python3.7/site-packages/ipykernel_launcher.py:25: TqdmDeprecationWarning: This function will be removed in tqdm==5.0.0\n",
      "Please use `tqdm.notebook.tqdm` instead of `tqdm.tqdm_notebook`\n"
     ]
    },
    {
     "data": {
      "application/vnd.jupyter.widget-view+json": {
       "model_id": "13e8c739ad4a48d3bba4d2a1ffa119af",
       "version_major": 2,
       "version_minor": 0
      },
      "text/plain": [
       "HBox(children=(HTML(value=''), FloatProgress(value=0.0, max=500000.0), HTML(value='')))"
      ]
     },
     "metadata": {},
     "output_type": "display_data"
    },
    {
     "name": "stdout",
     "output_type": "stream",
     "text": [
      "500000\n"
     ]
    },
    {
     "name": "stderr",
     "output_type": "stream",
     "text": [
      "/home/lyna/.local/lib/python3.7/site-packages/seaborn/distributions.py:2551: FutureWarning: `distplot` is a deprecated function and will be removed in a future version. Please adapt your code to use either `displot` (a figure-level function with similar flexibility) or `histplot` (an axes-level function for histograms).\n",
      "  warnings.warn(msg, FutureWarning)\n"
     ]
    },
    {
     "name": "stdout",
     "output_type": "stream",
     "text": [
      "\n"
     ]
    },
    {
     "name": "stderr",
     "output_type": "stream",
     "text": [
      "/cm/shared/apps/jupyter/11.0.0/lib/python3.7/site-packages/ipykernel_launcher.py:25: TqdmDeprecationWarning: This function will be removed in tqdm==5.0.0\n",
      "Please use `tqdm.notebook.tqdm` instead of `tqdm.tqdm_notebook`\n"
     ]
    },
    {
     "data": {
      "application/vnd.jupyter.widget-view+json": {
       "model_id": "78830ad13df440089fdf1e0dc2d8748b",
       "version_major": 2,
       "version_minor": 0
      },
      "text/plain": [
       "HBox(children=(HTML(value=''), FloatProgress(value=0.0, max=500000.0), HTML(value='')))"
      ]
     },
     "metadata": {},
     "output_type": "display_data"
    },
    {
     "name": "stdout",
     "output_type": "stream",
     "text": [
      "500000\n"
     ]
    },
    {
     "name": "stderr",
     "output_type": "stream",
     "text": [
      "/home/lyna/.local/lib/python3.7/site-packages/seaborn/distributions.py:2551: FutureWarning: `distplot` is a deprecated function and will be removed in a future version. Please adapt your code to use either `displot` (a figure-level function with similar flexibility) or `histplot` (an axes-level function for histograms).\n",
      "  warnings.warn(msg, FutureWarning)\n"
     ]
    },
    {
     "name": "stdout",
     "output_type": "stream",
     "text": [
      "\n"
     ]
    },
    {
     "name": "stderr",
     "output_type": "stream",
     "text": [
      "/cm/shared/apps/jupyter/11.0.0/lib/python3.7/site-packages/ipykernel_launcher.py:25: TqdmDeprecationWarning: This function will be removed in tqdm==5.0.0\n",
      "Please use `tqdm.notebook.tqdm` instead of `tqdm.tqdm_notebook`\n"
     ]
    },
    {
     "data": {
      "application/vnd.jupyter.widget-view+json": {
       "model_id": "8a0325d9135a4ed9b8e7347adbe46cb7",
       "version_major": 2,
       "version_minor": 0
      },
      "text/plain": [
       "HBox(children=(HTML(value=''), FloatProgress(value=0.0, max=500000.0), HTML(value='')))"
      ]
     },
     "metadata": {},
     "output_type": "display_data"
    },
    {
     "name": "stdout",
     "output_type": "stream",
     "text": [
      "500000\n"
     ]
    },
    {
     "name": "stderr",
     "output_type": "stream",
     "text": [
      "/home/lyna/.local/lib/python3.7/site-packages/seaborn/distributions.py:2551: FutureWarning: `distplot` is a deprecated function and will be removed in a future version. Please adapt your code to use either `displot` (a figure-level function with similar flexibility) or `histplot` (an axes-level function for histograms).\n",
      "  warnings.warn(msg, FutureWarning)\n"
     ]
    },
    {
     "name": "stdout",
     "output_type": "stream",
     "text": [
      "\n"
     ]
    },
    {
     "name": "stderr",
     "output_type": "stream",
     "text": [
      "/cm/shared/apps/jupyter/11.0.0/lib/python3.7/site-packages/ipykernel_launcher.py:25: TqdmDeprecationWarning: This function will be removed in tqdm==5.0.0\n",
      "Please use `tqdm.notebook.tqdm` instead of `tqdm.tqdm_notebook`\n"
     ]
    },
    {
     "data": {
      "application/vnd.jupyter.widget-view+json": {
       "model_id": "8dcd108f2a9d43dab5ce47565f58f9e7",
       "version_major": 2,
       "version_minor": 0
      },
      "text/plain": [
       "HBox(children=(HTML(value=''), FloatProgress(value=0.0, max=500000.0), HTML(value='')))"
      ]
     },
     "metadata": {},
     "output_type": "display_data"
    },
    {
     "name": "stdout",
     "output_type": "stream",
     "text": [
      "500000\n"
     ]
    },
    {
     "name": "stderr",
     "output_type": "stream",
     "text": [
      "/home/lyna/.local/lib/python3.7/site-packages/seaborn/distributions.py:2551: FutureWarning: `distplot` is a deprecated function and will be removed in a future version. Please adapt your code to use either `displot` (a figure-level function with similar flexibility) or `histplot` (an axes-level function for histograms).\n",
      "  warnings.warn(msg, FutureWarning)\n"
     ]
    },
    {
     "name": "stdout",
     "output_type": "stream",
     "text": [
      "\n"
     ]
    },
    {
     "name": "stderr",
     "output_type": "stream",
     "text": [
      "/cm/shared/apps/jupyter/11.0.0/lib/python3.7/site-packages/ipykernel_launcher.py:25: TqdmDeprecationWarning: This function will be removed in tqdm==5.0.0\n",
      "Please use `tqdm.notebook.tqdm` instead of `tqdm.tqdm_notebook`\n"
     ]
    },
    {
     "data": {
      "application/vnd.jupyter.widget-view+json": {
       "model_id": "f3924fa1fbb54db5899a5c8c3fb67b1a",
       "version_major": 2,
       "version_minor": 0
      },
      "text/plain": [
       "HBox(children=(HTML(value=''), FloatProgress(value=0.0, max=500000.0), HTML(value='')))"
      ]
     },
     "metadata": {},
     "output_type": "display_data"
    },
    {
     "name": "stdout",
     "output_type": "stream",
     "text": [
      "500000\n"
     ]
    },
    {
     "name": "stderr",
     "output_type": "stream",
     "text": [
      "/home/lyna/.local/lib/python3.7/site-packages/seaborn/distributions.py:2551: FutureWarning: `distplot` is a deprecated function and will be removed in a future version. Please adapt your code to use either `displot` (a figure-level function with similar flexibility) or `histplot` (an axes-level function for histograms).\n",
      "  warnings.warn(msg, FutureWarning)\n"
     ]
    },
    {
     "name": "stdout",
     "output_type": "stream",
     "text": [
      "\n"
     ]
    },
    {
     "name": "stderr",
     "output_type": "stream",
     "text": [
      "/cm/shared/apps/jupyter/11.0.0/lib/python3.7/site-packages/ipykernel_launcher.py:25: TqdmDeprecationWarning: This function will be removed in tqdm==5.0.0\n",
      "Please use `tqdm.notebook.tqdm` instead of `tqdm.tqdm_notebook`\n"
     ]
    },
    {
     "data": {
      "application/vnd.jupyter.widget-view+json": {
       "model_id": "3941a3d038d34b8881d6ba392c59fc77",
       "version_major": 2,
       "version_minor": 0
      },
      "text/plain": [
       "HBox(children=(HTML(value=''), FloatProgress(value=0.0, max=500000.0), HTML(value='')))"
      ]
     },
     "metadata": {},
     "output_type": "display_data"
    },
    {
     "name": "stdout",
     "output_type": "stream",
     "text": [
      "500000\n"
     ]
    },
    {
     "name": "stderr",
     "output_type": "stream",
     "text": [
      "/home/lyna/.local/lib/python3.7/site-packages/seaborn/distributions.py:2551: FutureWarning: `distplot` is a deprecated function and will be removed in a future version. Please adapt your code to use either `displot` (a figure-level function with similar flexibility) or `histplot` (an axes-level function for histograms).\n",
      "  warnings.warn(msg, FutureWarning)\n"
     ]
    },
    {
     "name": "stdout",
     "output_type": "stream",
     "text": [
      "\n"
     ]
    },
    {
     "data": {
      "image/png": "[encoded data removed]",
      "text/plain": [
       "<Figure size 432x288 with 1 Axes>"
      ]
     },
     "metadata": {
      "needs_background": "light"
     },
     "output_type": "display_data"
    }
   ],
   "source": [
    "# Run milestoning\n",
    "\n",
    "diffCoef=.0282*310.15/298.15\n",
    "kb=0.001985875\n",
    "Tsim=310.15\n",
    "kbT=kb*Tsim\n",
    "print(\"kbT\",kbT, )\n",
    "print(\"symm_window_centers\",symm_window_centers)\n",
    "\n",
    "symm_win_sim_data=[]\n",
    "for iWin,winCenter in enumerate(symm_window_centers):\n",
    "    win_potGradFun=symm_window_potGradFuns[iWin]\n",
    "    bd_Sim=analysis_functions.Simple_1D_BD_Sim(win_potGradFun)\n",
    "    bd_Sim.set_parameters(dict(\n",
    "        diffusionConstant=diffCoef,\n",
    "        vmax=15.0,\n",
    "        trajectorySnapshotRate=10,\n",
    "        verbose=True,\n",
    "        timestep=0.5\n",
    "    ))\n",
    "    bd_Sim.set_x0(winCenter)\n",
    "\n",
    "    nsteps=500000 #500k steps x8 windows x 0.5 fs= 2 us, sufficeint to converge brute-force BD\n",
    "    symm_win_sim_data.append(bd_Sim.run_sim(nsteps=nsteps,giveVelocities=True,\n",
    "        pbar=tqdm.tqdm_notebook(total=nsteps)))\n",
    "    trajData=symm_win_sim_data[iWin]\n",
    "    binEdges=np.linspace(-8,8,130)\n",
    "    binCenters=(binEdges[:-1]+binEdges[1:])/2.\n",
    "    xgrid=binCenters\n",
    "    sns.distplot(trajData['trajectory'],bins=binEdges, color=None)\n",
    "\n",
    "plt.xlabel('X (Å)')\n",
    "plt.show()"
   ]
  },
  {
   "cell_type": "code",
   "execution_count": 95,
   "metadata": {},
   "outputs": [
    {
     "name": "stdout",
     "output_type": "stream",
     "text": [
      "50000\n",
      "saving window setup data\n"
     ]
    },
    {
     "data": {
      "text/html": [
       "<div>\n",
       "<style scoped>\n",
       "    .dataframe tbody tr th:only-of-type {\n",
       "        vertical-align: middle;\n",
       "    }\n",
       "\n",
       "    .dataframe tbody tr th {\n",
       "        vertical-align: top;\n",
       "    }\n",
       "\n",
       "    .dataframe thead th {\n",
       "        text-align: right;\n",
       "    }\n",
       "</style>\n",
       "<table border=\"1\" class=\"dataframe\">\n",
       "  <thead>\n",
       "    <tr style=\"text-align: right;\">\n",
       "      <th></th>\n",
       "      <th>Window</th>\n",
       "      <th>LHS_Edge</th>\n",
       "      <th>Center</th>\n",
       "      <th>RHS_Edge</th>\n",
       "    </tr>\n",
       "  </thead>\n",
       "  <tbody>\n",
       "    <tr>\n",
       "      <th>0</th>\n",
       "      <td>0</td>\n",
       "      <td>-8.0</td>\n",
       "      <td>-7.0</td>\n",
       "      <td>-6.0</td>\n",
       "    </tr>\n",
       "    <tr>\n",
       "      <th>1</th>\n",
       "      <td>1</td>\n",
       "      <td>-6.0</td>\n",
       "      <td>-5.0</td>\n",
       "      <td>-4.0</td>\n",
       "    </tr>\n",
       "    <tr>\n",
       "      <th>2</th>\n",
       "      <td>2</td>\n",
       "      <td>-4.0</td>\n",
       "      <td>-3.0</td>\n",
       "      <td>-2.0</td>\n",
       "    </tr>\n",
       "    <tr>\n",
       "      <th>3</th>\n",
       "      <td>3</td>\n",
       "      <td>-2.0</td>\n",
       "      <td>-1.0</td>\n",
       "      <td>0.0</td>\n",
       "    </tr>\n",
       "    <tr>\n",
       "      <th>4</th>\n",
       "      <td>4</td>\n",
       "      <td>0.0</td>\n",
       "      <td>1.0</td>\n",
       "      <td>2.0</td>\n",
       "    </tr>\n",
       "  </tbody>\n",
       "</table>\n",
       "</div>"
      ],
      "text/plain": [
       "   Window  LHS_Edge  Center  RHS_Edge\n",
       "0       0      -8.0    -7.0      -6.0\n",
       "1       1      -6.0    -5.0      -4.0\n",
       "2       2      -4.0    -3.0      -2.0\n",
       "3       3      -2.0    -1.0       0.0\n",
       "4       4       0.0     1.0       2.0"
      ]
     },
     "metadata": {},
     "output_type": "display_data"
    }
   ],
   "source": [
    "# Save milestoning data\n",
    "\n",
    "for iWin,winData in enumerate(symm_win_sim_data):\n",
    "    stepsPerWindow=(len(winData['trajectory']))\n",
    "print(stepsPerWindow)\n",
    "\n",
    "milestone_data_table=pd.DataFrame({\n",
    "    'Window':(np.array([[iWin]*len(winData['trajectory']) for iWin,winData in enumerate(symm_win_sim_data)])).flatten(),\n",
    "    'X':(np.array([winData['trajectory'] for winData in symm_win_sim_data])).flatten(),\n",
    "    \"WindowCenter\":((np.array([[winCenter]*stepsPerWindow for iWin,winCenter in enumerate(symm_window_centers)])).flatten()),\n",
    "    #\"WindowLeft\":((np.array([[winCenter]*stepsPerWindow for iWin,winCenter in enumerate(symm_window_centers)])-1.5).flatten()),\n",
    "    #\"WindowRight\":((np.array([[winCenter]*stepsPerWindow for iWin,winCenter in enumerate(symm_window_centers)])+1.5).flatten()),\n",
    "})\n",
    "milestone_data_table['X_Ind']=milestone_data_table['X'].map(lambda x: np.argmin(np.abs(x-symm_window_centers)))\n",
    "milestone_data_table\n",
    "milestone_data_table.to_csv('data_window.csv',index=False)\n",
    "\n",
    "symm_window_data=pd.DataFrame({\n",
    "    'Window':np.arange(len(symm_window_centers)),\n",
    "    'LHS_Edge':symm_window_lhs,\n",
    "    'Center':symm_window_centers,\n",
    "    'RHS_Edge':symm_window_rhs\n",
    "})\n",
    "print('saving window setup data')\n",
    "display(symm_window_data.head())\n",
    "symm_window_data.to_csv('setup_windows.csv',index=False)"
   ]
  },
  {
   "cell_type": "code",
   "execution_count": 96,
   "metadata": {
    "scrolled": true
   },
   "outputs": [
    {
     "name": "stdout",
     "output_type": "stream",
     "text": [
      "   Window         X  WindowCenter  X_Ind\n",
      "0       0 -7.000000          -7.0      0\n",
      "1       0 -5.962580          -7.0      1\n",
      "2       0 -6.034008          -7.0      0\n",
      "3       0 -6.106564          -7.0      0\n",
      "4       0 -6.019001          -7.0      0\n"
     ]
    },
    {
     "name": "stderr",
     "output_type": "stream",
     "text": [
      "/cm/shared/apps/jupyter/11.0.0/lib/python3.7/site-packages/ipykernel_launcher.py:8: TqdmDeprecationWarning: This function will be removed in tqdm==5.0.0\n",
      "Please use `tqdm.notebook.tqdm` instead of `tqdm.tqdm_notebook`\n",
      "  \n"
     ]
    },
    {
     "data": {
      "application/vnd.jupyter.widget-view+json": {
       "model_id": "aa52a0dfe91343898bb91ec84deec250",
       "version_major": 2,
       "version_minor": 0
      },
      "text/plain": [
       "HBox(children=(HTML(value=''), FloatProgress(value=0.0, max=8.0), HTML(value='')))"
      ]
     },
     "metadata": {},
     "output_type": "display_data"
    },
    {
     "name": "stdout",
     "output_type": "stream",
     "text": [
      "\n"
     ]
    },
    {
     "data": {
      "text/html": [
       "<div>\n",
       "<style scoped>\n",
       "    .dataframe tbody tr th:only-of-type {\n",
       "        vertical-align: middle;\n",
       "    }\n",
       "\n",
       "    .dataframe tbody tr th {\n",
       "        vertical-align: top;\n",
       "    }\n",
       "\n",
       "    .dataframe thead th {\n",
       "        text-align: right;\n",
       "    }\n",
       "</style>\n",
       "<table border=\"1\" class=\"dataframe\">\n",
       "  <thead>\n",
       "    <tr style=\"text-align: right;\">\n",
       "      <th></th>\n",
       "      <th>Replica</th>\n",
       "      <th>Window</th>\n",
       "      <th>Frame</th>\n",
       "      <th>X</th>\n",
       "      <th>X_Ind</th>\n",
       "    </tr>\n",
       "  </thead>\n",
       "  <tbody>\n",
       "    <tr>\n",
       "      <th>0</th>\n",
       "      <td>0</td>\n",
       "      <td>0</td>\n",
       "      <td>0</td>\n",
       "      <td>-7.000000</td>\n",
       "      <td>0</td>\n",
       "    </tr>\n",
       "    <tr>\n",
       "      <th>1</th>\n",
       "      <td>0</td>\n",
       "      <td>0</td>\n",
       "      <td>1</td>\n",
       "      <td>-5.962580</td>\n",
       "      <td>1</td>\n",
       "    </tr>\n",
       "    <tr>\n",
       "      <th>2</th>\n",
       "      <td>0</td>\n",
       "      <td>0</td>\n",
       "      <td>2</td>\n",
       "      <td>-6.034008</td>\n",
       "      <td>0</td>\n",
       "    </tr>\n",
       "    <tr>\n",
       "      <th>3</th>\n",
       "      <td>0</td>\n",
       "      <td>0</td>\n",
       "      <td>3</td>\n",
       "      <td>-6.106564</td>\n",
       "      <td>0</td>\n",
       "    </tr>\n",
       "    <tr>\n",
       "      <th>4</th>\n",
       "      <td>0</td>\n",
       "      <td>0</td>\n",
       "      <td>4</td>\n",
       "      <td>-6.019001</td>\n",
       "      <td>0</td>\n",
       "    </tr>\n",
       "    <tr>\n",
       "      <th>...</th>\n",
       "      <td>...</td>\n",
       "      <td>...</td>\n",
       "      <td>...</td>\n",
       "      <td>...</td>\n",
       "      <td>...</td>\n",
       "    </tr>\n",
       "    <tr>\n",
       "      <th>399995</th>\n",
       "      <td>0</td>\n",
       "      <td>7</td>\n",
       "      <td>49995</td>\n",
       "      <td>6.285861</td>\n",
       "      <td>7</td>\n",
       "    </tr>\n",
       "    <tr>\n",
       "      <th>399996</th>\n",
       "      <td>0</td>\n",
       "      <td>7</td>\n",
       "      <td>49996</td>\n",
       "      <td>6.457048</td>\n",
       "      <td>7</td>\n",
       "    </tr>\n",
       "    <tr>\n",
       "      <th>399997</th>\n",
       "      <td>0</td>\n",
       "      <td>7</td>\n",
       "      <td>49997</td>\n",
       "      <td>6.594993</td>\n",
       "      <td>7</td>\n",
       "    </tr>\n",
       "    <tr>\n",
       "      <th>399998</th>\n",
       "      <td>0</td>\n",
       "      <td>7</td>\n",
       "      <td>49998</td>\n",
       "      <td>6.477957</td>\n",
       "      <td>7</td>\n",
       "    </tr>\n",
       "    <tr>\n",
       "      <th>399999</th>\n",
       "      <td>0</td>\n",
       "      <td>7</td>\n",
       "      <td>49999</td>\n",
       "      <td>7.151447</td>\n",
       "      <td>7</td>\n",
       "    </tr>\n",
       "  </tbody>\n",
       "</table>\n",
       "<p>400000 rows × 5 columns</p>\n",
       "</div>"
      ],
      "text/plain": [
       "        Replica  Window  Frame         X  X_Ind\n",
       "0             0       0      0 -7.000000      0\n",
       "1             0       0      1 -5.962580      1\n",
       "2             0       0      2 -6.034008      0\n",
       "3             0       0      3 -6.106564      0\n",
       "4             0       0      4 -6.019001      0\n",
       "...         ...     ...    ...       ...    ...\n",
       "399995        0       7  49995  6.285861      7\n",
       "399996        0       7  49996  6.457048      7\n",
       "399997        0       7  49997  6.594993      7\n",
       "399998        0       7  49998  6.477957      7\n",
       "399999        0       7  49999  7.151447      7\n",
       "\n",
       "[400000 rows x 5 columns]"
      ]
     },
     "execution_count": 96,
     "metadata": {},
     "output_type": "execute_result"
    }
   ],
   "source": [
    "# Compute milestoning PMF\n",
    "\n",
    "# add a frame column for each window\n",
    "milestoneSimulationsData=milestone_data_table\n",
    "print(milestoneSimulationsData.head())\n",
    "\n",
    "tempFrames=[]\n",
    "with tqdm.tqdm_notebook(milestoneSimulationsData.groupby(['Window'])) as pbar:\n",
    "    for group in pbar:\n",
    "        groupName,groupData=group\n",
    "        tempFrame=groupData.copy()\n",
    "        tempFrame['Frame']=np.arange(len(tempFrame))\n",
    "        tempFrame['Replica']=0\n",
    "        tempFrame=tempFrame[['Replica','Window','Frame','X','X_Ind']]\n",
    "        tempFrames.append(tempFrame.copy())\n",
    "        gc.collect()\n",
    "milestoneSimulationsData=pd.concat(tempFrames)\n",
    "milestoneSimulationsData"
   ]
  },
  {
   "cell_type": "code",
   "execution_count": 97,
   "metadata": {
    "scrolled": true
   },
   "outputs": [
    {
     "name": "stderr",
     "output_type": "stream",
     "text": [
      "/data/lyna/Milestone_Error_Analysis_Testing/analysis_functions.py:429: SettingWithCopyWarning: \n",
      "A value is trying to be set on a copy of a slice from a DataFrame.\n",
      "Try using .loc[row_indexer,col_indexer] = value instead\n",
      "\n",
      "See the caveats in the documentation: https://pandas.pydata.org/pandas-docs/stable/user_guide/indexing.html#returning-a-view-versus-a-copy\n",
      "  simData[groupingCol]=0\n",
      "/data/lyna/Milestone_Error_Analysis_Testing/analysis_functions.py:436: SettingWithCopyWarning: \n",
      "A value is trying to be set on a copy of a slice from a DataFrame.\n",
      "Try using .loc[row_indexer,col_indexer] = value instead\n",
      "\n",
      "See the caveats in the documentation: https://pandas.pydata.org/pandas-docs/stable/user_guide/indexing.html#returning-a-view-versus-a-copy\n",
      "  simData[repCol]=0\n"
     ]
    },
    {
     "name": "stdout",
     "output_type": "stream",
     "text": [
      "--- --- --- Grouping Name: 0 --- --- ---\n",
      "\t--- --- Window Name: 0 --- ---\n",
      "\t\t--- Replica Name: 0 ---\n",
      "\t--- --- ------ --- ---\n",
      "\t--- --- Window Name: 1 --- ---\n",
      "\t\t--- Replica Name: 0 ---\n",
      "\t--- --- ------ --- ---\n",
      "\t--- --- Window Name: 2 --- ---\n",
      "\t\t--- Replica Name: 0 ---\n",
      "\t--- --- ------ --- ---\n",
      "\t--- --- Window Name: 3 --- ---\n",
      "\t\t--- Replica Name: 0 ---\n",
      "\t--- --- ------ --- ---\n",
      "\t--- --- Window Name: 4 --- ---\n",
      "\t\t--- Replica Name: 0 ---\n",
      "\t--- --- ------ --- ---\n",
      "\t--- --- Window Name: 5 --- ---\n",
      "\t\t--- Replica Name: 0 ---\n",
      "\t--- --- ------ --- ---\n",
      "\t--- --- Window Name: 6 --- ---\n",
      "\t\t--- Replica Name: 0 ---\n",
      "\t--- --- ------ --- ---\n",
      "\t--- --- Window Name: 7 --- ---\n",
      "\t\t--- Replica Name: 0 ---\n",
      "\t--- --- ------ --- ---\n",
      "--- --- --- ------ --- --- ---\n"
     ]
    },
    {
     "data": {
      "text/html": [
       "<div>\n",
       "<style scoped>\n",
       "    .dataframe tbody tr th:only-of-type {\n",
       "        vertical-align: middle;\n",
       "    }\n",
       "\n",
       "    .dataframe tbody tr th {\n",
       "        vertical-align: top;\n",
       "    }\n",
       "\n",
       "    .dataframe thead th {\n",
       "        text-align: right;\n",
       "    }\n",
       "</style>\n",
       "<table border=\"1\" class=\"dataframe\">\n",
       "  <thead>\n",
       "    <tr style=\"text-align: right;\">\n",
       "      <th></th>\n",
       "      <th>Window</th>\n",
       "      <th>X_Ind</th>\n",
       "      <th>Group</th>\n",
       "      <th>Rep</th>\n",
       "      <th>Frame</th>\n",
       "      <th>Escape_Vector</th>\n",
       "      <th>Reentry_Vector</th>\n",
       "      <th>X</th>\n",
       "    </tr>\n",
       "  </thead>\n",
       "  <tbody>\n",
       "    <tr>\n",
       "      <th>0</th>\n",
       "      <td>0</td>\n",
       "      <td>0</td>\n",
       "      <td>0</td>\n",
       "      <td>0</td>\n",
       "      <td>0</td>\n",
       "      <td>0</td>\n",
       "      <td>-1</td>\n",
       "      <td>-7.000000</td>\n",
       "    </tr>\n",
       "    <tr>\n",
       "      <th>1</th>\n",
       "      <td>0</td>\n",
       "      <td>1</td>\n",
       "      <td>0</td>\n",
       "      <td>0</td>\n",
       "      <td>1</td>\n",
       "      <td>1</td>\n",
       "      <td>-1</td>\n",
       "      <td>-5.962580</td>\n",
       "    </tr>\n",
       "    <tr>\n",
       "      <th>2</th>\n",
       "      <td>0</td>\n",
       "      <td>0</td>\n",
       "      <td>0</td>\n",
       "      <td>0</td>\n",
       "      <td>2</td>\n",
       "      <td>0</td>\n",
       "      <td>1</td>\n",
       "      <td>-6.034008</td>\n",
       "    </tr>\n",
       "    <tr>\n",
       "      <th>3</th>\n",
       "      <td>0</td>\n",
       "      <td>0</td>\n",
       "      <td>0</td>\n",
       "      <td>0</td>\n",
       "      <td>3</td>\n",
       "      <td>0</td>\n",
       "      <td>1</td>\n",
       "      <td>-6.106564</td>\n",
       "    </tr>\n",
       "    <tr>\n",
       "      <th>4</th>\n",
       "      <td>0</td>\n",
       "      <td>0</td>\n",
       "      <td>0</td>\n",
       "      <td>0</td>\n",
       "      <td>4</td>\n",
       "      <td>0</td>\n",
       "      <td>1</td>\n",
       "      <td>-6.019001</td>\n",
       "    </tr>\n",
       "    <tr>\n",
       "      <th>...</th>\n",
       "      <td>...</td>\n",
       "      <td>...</td>\n",
       "      <td>...</td>\n",
       "      <td>...</td>\n",
       "      <td>...</td>\n",
       "      <td>...</td>\n",
       "      <td>...</td>\n",
       "      <td>...</td>\n",
       "    </tr>\n",
       "    <tr>\n",
       "      <th>399995</th>\n",
       "      <td>7</td>\n",
       "      <td>7</td>\n",
       "      <td>0</td>\n",
       "      <td>0</td>\n",
       "      <td>49995</td>\n",
       "      <td>7</td>\n",
       "      <td>6</td>\n",
       "      <td>6.285861</td>\n",
       "    </tr>\n",
       "    <tr>\n",
       "      <th>399996</th>\n",
       "      <td>7</td>\n",
       "      <td>7</td>\n",
       "      <td>0</td>\n",
       "      <td>0</td>\n",
       "      <td>49996</td>\n",
       "      <td>7</td>\n",
       "      <td>6</td>\n",
       "      <td>6.457048</td>\n",
       "    </tr>\n",
       "    <tr>\n",
       "      <th>399997</th>\n",
       "      <td>7</td>\n",
       "      <td>7</td>\n",
       "      <td>0</td>\n",
       "      <td>0</td>\n",
       "      <td>49997</td>\n",
       "      <td>7</td>\n",
       "      <td>6</td>\n",
       "      <td>6.594993</td>\n",
       "    </tr>\n",
       "    <tr>\n",
       "      <th>399998</th>\n",
       "      <td>7</td>\n",
       "      <td>7</td>\n",
       "      <td>0</td>\n",
       "      <td>0</td>\n",
       "      <td>49998</td>\n",
       "      <td>7</td>\n",
       "      <td>6</td>\n",
       "      <td>6.477957</td>\n",
       "    </tr>\n",
       "    <tr>\n",
       "      <th>399999</th>\n",
       "      <td>7</td>\n",
       "      <td>7</td>\n",
       "      <td>0</td>\n",
       "      <td>0</td>\n",
       "      <td>49999</td>\n",
       "      <td>7</td>\n",
       "      <td>6</td>\n",
       "      <td>7.151447</td>\n",
       "    </tr>\n",
       "  </tbody>\n",
       "</table>\n",
       "<p>400000 rows × 8 columns</p>\n",
       "</div>"
      ],
      "text/plain": [
       "        Window  X_Ind  Group  Rep  Frame  Escape_Vector  Reentry_Vector  \\\n",
       "0            0      0      0    0      0              0              -1   \n",
       "1            0      1      0    0      1              1              -1   \n",
       "2            0      0      0    0      2              0               1   \n",
       "3            0      0      0    0      3              0               1   \n",
       "4            0      0      0    0      4              0               1   \n",
       "...        ...    ...    ...  ...    ...            ...             ...   \n",
       "399995       7      7      0    0  49995              7               6   \n",
       "399996       7      7      0    0  49996              7               6   \n",
       "399997       7      7      0    0  49997              7               6   \n",
       "399998       7      7      0    0  49998              7               6   \n",
       "399999       7      7      0    0  49999              7               6   \n",
       "\n",
       "               X  \n",
       "0      -7.000000  \n",
       "1      -5.962580  \n",
       "2      -6.034008  \n",
       "3      -6.106564  \n",
       "4      -6.019001  \n",
       "...          ...  \n",
       "399995  6.285861  \n",
       "399996  6.457048  \n",
       "399997  6.594993  \n",
       "399998  6.477957  \n",
       "399999  7.151447  \n",
       "\n",
       "[400000 rows x 8 columns]"
      ]
     },
     "execution_count": 97,
     "metadata": {},
     "output_type": "execute_result"
    }
   ],
   "source": [
    "milestoneData=analysis_functions.add_indexed_milestoning_analysis_columns(\n",
    "    milestoneSimulationsData,\n",
    "    windowColumn='Window',xIndexColumn='X_Ind',frameCol='Frame',\n",
    "    repColumn=None,groupingColumn=None,verbose=True,\n",
    "    verboseLevel=0\n",
    ")\n",
    "milestoneData[\"X\"]=milestoneSimulationsData.X\n",
    "milestoneData"
   ]
  },
  {
   "cell_type": "code",
   "execution_count": 98,
   "metadata": {},
   "outputs": [
    {
     "name": "stdout",
     "output_type": "stream",
     "text": [
      "binSet [0 1 2 3 4 5 6 7]\n",
      "testEscapeData: {'piVec': array([0.03781289, 0.30474158, 0.11739567, 0.03589485, 0.03617914,\n",
      "       0.11869726, 0.31109044, 0.03818816]), 'escapeMat': <8x8 sparse matrix of type '<class 'numpy.float64'>'\n",
      "\twith 22 stored elements in List of Lists format>, 'counts': array([42394, 47914, 46343, 46680, 46602, 46324, 47913, 42366]), 'bins': array([0, 1, 2, 3, 4, 5, 6, 7]), 'binMap': {0: 0, 1: 1, 2: 2, 3: 3, 4: 4, 5: 5, 6: 6, 7: 7}, 'binSetMap': {0: 0, 1: 1, 2: 2, 3: 3, 4: 4, 5: 5, 6: 6, 7: 7}, 'countsMat': <8x8 sparse matrix of type '<class 'numpy.float64'>'\n",
      "\twith 22 stored elements in List of Lists format>}\n"
     ]
    }
   ],
   "source": [
    "#################### pi_vector and PMF ################\n",
    "\n",
    "kb=0.001985875 #kcal/mol\n",
    "simTemp=310.15\n",
    "kbT=kb*simTemp\n",
    "\n",
    "analysisFrame=milestoneData\n",
    "binSet=np.sort(np.unique(np.concatenate([\n",
    "    analysisFrame['Window'].unique(),\n",
    "    analysisFrame['X_Ind'].unique()\n",
    "])))\n",
    "print(\"binSet\",binSet)\n",
    "\n",
    "testEscapeData=analysis_functions.compute_analysis_group_pi_vector(\n",
    "    groupDataFrame=analysisFrame,windowColumn='Window',binSet=binSet,\n",
    "    giveEscapeMat=True,giveCounts=True,giveBins=True,giveBinMap=True,\n",
    "    giveCountsMat=True)\n",
    "print('testEscapeData:',testEscapeData)\n",
    "\n",
    "# escapeMat is the number of escape per frame, kij and kji, row sum must be 1\n"
   ]
  },
  {
   "cell_type": "code",
   "execution_count": 102,
   "metadata": {},
   "outputs": [
    {
     "name": "stdout",
     "output_type": "stream",
     "text": [
      "pmf [2.01719991 0.73189125 1.31942518 2.04926232 2.04440347 1.31263393\n",
      " 0.71919129 2.01111745]\n",
      "window center [-7. -5. -3. -1.  1.  3.  5.  7.]\n"
     ]
    },
    {
     "data": {
      "image/png": "[encoded data removed]",
      "text/plain": [
       "<Figure size 432x288 with 1 Axes>"
      ]
     },
     "metadata": {
      "needs_background": "light"
     },
     "output_type": "display_data"
    }
   ],
   "source": [
    "piVec=testEscapeData['piVec']\n",
    "#sns.lineplot(np.arange(len(piVec)),piVec, marker='o', color='g', label=\"piVec\")\n",
    "pmfVec=-kbT*np.log(testEscapeData['piVec'])\n",
    "print(\"pmf\", pmfVec)\n",
    "pmfVec=pmfVec-np.min(pmfVec)\n",
    "xgrid=symm_window_centers\n",
    "print(\"window center\",xgrid)\n",
    "sns.lineplot(\n",
    "    x=xgrid,\n",
    "    y=pmfVec, marker='o',label=\"pmf from milestoning\")\n",
    "\n",
    "sns.lineplot(\n",
    "    x=xgrid,\n",
    "    y=potFun(xgrid)-np.min(potFun(xgrid)),\n",
    "    label='U(X) (kcal/mol)'\n",
    ")\n",
    "\n",
    "sns.scatterplot(x=xgrid, y=-kbT*np.log((normHist)/np.max(normHist)), color='r', label=\"raw BD PMF\")\n",
    "\n",
    "plt.show()"
   ]
  },
  {
   "cell_type": "code",
   "execution_count": null,
   "metadata": {},
   "outputs": [],
   "source": []
  }
 ],
 "metadata": {
  "kernelspec": {
   "display_name": "Python 3",
   "language": "python",
   "name": "python3"
  },
  "language_info": {
   "codemirror_mode": {
    "name": "ipython",
    "version": 3
   },
   "file_extension": ".py",
   "mimetype": "text/x-python",
   "name": "python",
   "nbconvert_exporter": "python",
   "pygments_lexer": "ipython3",
   "version": "3.7.5"
  }
 },
 "nbformat": 4,
 "nbformat_minor": 4
}
