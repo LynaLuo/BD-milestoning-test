{
 "cells": [
  {
   "cell_type": "code",
   "execution_count": 1,
   "metadata": {},
   "outputs": [
    {
     "name": "stdout",
     "output_type": "stream",
     "text": [
      "/data/lyna/Milestone_Error_Analysis_Testing\n"
     ]
    }
   ],
   "source": [
    "import numpy as np\n",
    "import pandas as pd\n",
    "import matplotlib\n",
    "\n",
    "from matplotlib import pyplot as plt\n",
    "import seaborn as sns\n",
    "\n",
    "import plotly as ply\n",
    "\n",
    "import tqdm\n",
    "import gc\n",
    "import sys\n",
    "import os\n",
    "\n",
    "import scipy as sp\n",
    "\n",
    "import json\n",
    "\n",
    "%cd /data/lyna/Milestone_Error_Analysis_Testing\n",
    "import analysis_functions"
   ]
  },
  {
   "cell_type": "code",
   "execution_count": 80,
   "metadata": {},
   "outputs": [],
   "source": [
    "def potFun(x):\n",
    "    return(0.1*((1/2000)*(x)**6-(x)**2))\n",
    "def potGradFun(x):\n",
    "    return(0.1*((6.0/2000)*(x)**5-2.0*(x)))"
   ]
  },
  {
   "cell_type": "code",
   "execution_count": 21,
   "metadata": {},
   "outputs": [
    {
     "name": "stderr",
     "output_type": "stream",
     "text": [
      "/cm/shared/apps/jupyter/11.0.0/lib/python3.7/site-packages/ipykernel_launcher.py:17: TqdmDeprecationWarning: This function will be removed in tqdm==5.0.0\n",
      "Please use `tqdm.notebook.tqdm` instead of `tqdm.tqdm_notebook`\n"
     ]
    },
    {
     "data": {
      "application/vnd.jupyter.widget-view+json": {
       "model_id": "783272c3de2c4a8d9035303bdf97abc1",
       "version_major": 2,
       "version_minor": 0
      },
      "text/plain": [
       "HBox(children=(HTML(value=''), FloatProgress(value=0.0, max=1000000.0), HTML(value='')))"
      ]
     },
     "metadata": {},
     "output_type": "display_data"
    },
    {
     "name": "stdout",
     "output_type": "stream",
     "text": [
      "1000000\n"
     ]
    },
    {
     "name": "stderr",
     "output_type": "stream",
     "text": [
      "/cm/shared/apps/jupyter/11.0.0/lib/python3.7/site-packages/ipykernel_launcher.py:25: TqdmDeprecationWarning: This function will be removed in tqdm==5.0.0\n",
      "Please use `tqdm.notebook.tqdm` instead of `tqdm.tqdm_notebook`\n"
     ]
    },
    {
     "data": {
      "application/vnd.jupyter.widget-view+json": {
       "model_id": "c9c6f515456e4393aab6274dbbbafd8c",
       "version_major": 2,
       "version_minor": 0
      },
      "text/plain": [
       "HBox(children=(HTML(value=''), FloatProgress(value=0.0, max=2000000.0), HTML(value='')))"
      ]
     },
     "metadata": {},
     "output_type": "display_data"
    },
    {
     "name": "stdout",
     "output_type": "stream",
     "text": [
      "2000000\n"
     ]
    }
   ],
   "source": [
    "# Run brute-force DB \n",
    "diffCoef=.0282*310.15/298.15 #Approximate scaling to body temperature \n",
    "bd_Sim=analysis_functions.Simple_1D_BD_Sim(potGradFun)\n",
    "bd_Sim.set_parameters(dict(\n",
    "    diffusionConstant=diffCoef,\n",
    "    vmax=15.0,\n",
    "    trajectorySnapshotRate=10,\n",
    "    verbose=True,\n",
    "    timestep=0.5\n",
    "))\n",
    "\n",
    "nsteps=1000000 #2000k steps = 0.5 us\n",
    "bd_Sim.set_x0(-6.)\n",
    "trajData=bd_Sim.run_sim(\n",
    "    nsteps=nsteps,\n",
    "    giveVelocities=True,\n",
    "    pbar=tqdm.tqdm_notebook(total=nsteps))\n",
    "\n",
    "\n",
    "nsteps=2000000 #2000k steps = 1 us\n",
    "bd_Sim.set_x0(6.)\n",
    "trajData2=bd_Sim.run_sim(\n",
    "    nsteps=nsteps,\n",
    "    giveVelocities=True,\n",
    "    pbar=tqdm.tqdm_notebook(total=nsteps))\n"
   ]
  },
  {
   "cell_type": "code",
   "execution_count": 78,
   "metadata": {},
   "outputs": [
    {
     "name": "stdout",
     "output_type": "stream",
     "text": [
      "binEdges [-8. -6. -4. -2.  0.  2.  4.  6.  8.] binCenters [-7. -5. -3. -1.  1.  3.  5.  7.]\n",
      "normalized histogram [0.03276 0.32111 0.11549 0.03474 0.03446 0.11362 0.31535 0.03247]\n",
      "pmf [ 1.40588191 -0.          0.62983878  1.36973762  1.37472196  0.63989329\n",
      "  0.01114851  1.41135846]\n"
     ]
    },
    {
     "data": {
      "image/png": "[encoded data removed]",
      "text/plain": [
       "<Figure size 432x288 with 1 Axes>"
      ]
     },
     "metadata": {
      "needs_background": "light"
     },
     "output_type": "display_data"
    },
    {
     "data": {
      "image/png": "[encoded data removed]",
      "text/plain": [
       "<Figure size 432x288 with 1 Axes>"
      ]
     },
     "metadata": {
      "needs_background": "light"
     },
     "output_type": "display_data"
    }
   ],
   "source": [
    "# Plot brute-force BD data and PMF\n",
    "binEdges=np.linspace(-8,8,9)\n",
    "binCenters=(binEdges[:-1]+binEdges[1:])/2.\n",
    "print(\"binEdges\", binEdges, \"binCenters\",binCenters)\n",
    "\n",
    "histogram=np.histogram( a=trajData['trajectory'],bins=binEdges)\n",
    "normHist=histogram[0]/np.sum(histogram[0])\n",
    "print(\"normalized histogram\", normHist)\n",
    "print(\"pmf\", -kbT*np.log((normHist)/np.max(normHist)))\n",
    "\n",
    "sns.histplot(trajData['trajectory'],bins=binEdges)\n",
    "plt.show()\n",
    "sns.scatterplot(x=binCenters, y=-kbT*np.log((normHist)/np.max(normHist)), color='r', label=\"raw BD PMF\")\n",
    "sns.scatterplot(x=binCenters,y=potFun(binCenters)-np.min(potFun(binCenters)),label='U(X) (kcal/mol)', alpha=0.5)\n",
    "plt.show()"
   ]
  },
  {
   "cell_type": "code",
   "execution_count": null,
   "metadata": {},
   "outputs": [],
   "source": [
    "# Run US\n"
   ]
  }
 ],
 "metadata": {
  "kernelspec": {
   "display_name": "Python 3",
   "language": "python",
   "name": "python3"
  },
  "language_info": {
   "codemirror_mode": {
    "name": "ipython",
    "version": 3
   },
   "file_extension": ".py",
   "mimetype": "text/x-python",
   "name": "python",
   "nbconvert_exporter": "python",
   "pygments_lexer": "ipython3",
   "version": "3.7.5"
  }
 },
 "nbformat": 4,
 "nbformat_minor": 4
}
