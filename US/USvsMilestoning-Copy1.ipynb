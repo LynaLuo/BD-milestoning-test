{
 "cells": [
  {
   "cell_type": "code",
   "execution_count": 2,
   "metadata": {},
   "outputs": [
    {
     "name": "stdout",
     "output_type": "stream",
     "text": [
      "/data/lyna/Milestone_Error_Analysis_Testing\n"
     ]
    }
   ],
   "source": [
    "import numpy as np\n",
    "import pandas as pd\n",
    "import matplotlib\n",
    "\n",
    "from matplotlib import pyplot as plt\n",
    "import seaborn as sns\n",
    "\n",
    "import plotly as ply\n",
    "\n",
    "import tqdm\n",
    "import gc\n",
    "import sys\n",
    "import os\n",
    "\n",
    "import scipy as sp\n",
    "\n",
    "import json\n",
    "\n",
    "%cd /data/lyna/Milestone_Error_Analysis_Testing\n",
    "import analysis_functions"
   ]
  },
  {
   "cell_type": "code",
   "execution_count": 3,
   "metadata": {},
   "outputs": [],
   "source": [
    "def potFun(x):\n",
    "    return(0.1*((1/2000)*(x)**6-(x)**2))\n",
    "def potGradFun(x):\n",
    "    return(0.1*((6.0/2000)*(x)**5-2.0*(x)))"
   ]
  },
  {
   "cell_type": "code",
   "execution_count": 19,
   "metadata": {},
   "outputs": [
    {
     "name": "stderr",
     "output_type": "stream",
     "text": [
      "/cm/shared/apps/jupyter/11.0.0/lib/python3.7/site-packages/ipykernel_launcher.py:16: TqdmDeprecationWarning: This function will be removed in tqdm==5.0.0\n",
      "Please use `tqdm.notebook.tqdm` instead of `tqdm.tqdm_notebook`\n",
      "  app.launch_new_instance()\n"
     ]
    },
    {
     "data": {
      "application/vnd.jupyter.widget-view+json": {
       "model_id": "d9b52a3b2aef48f19cf575aabd76569c",
       "version_major": 2,
       "version_minor": 0
      },
      "text/plain": [
       "HBox(children=(HTML(value=''), FloatProgress(value=0.0, max=10000000.0), HTML(value='')))"
      ]
     },
     "metadata": {},
     "output_type": "display_data"
    },
    {
     "name": "stdout",
     "output_type": "stream",
     "text": [
      "10000000\n"
     ]
    }
   ],
   "source": [
    "# Run brute-force DB \n",
    "diffCoef=.0282*310.15/298.15 #Approximate scaling to body temperature \n",
    "bd_Sim=analysis_functions.Simple_1D_BD_Sim(potGradFun)\n",
    "bd_Sim.set_parameters(dict(\n",
    "    diffusionConstant=diffCoef,\n",
    "    vmax=15.0,\n",
    "    trajectorySnapshotRate=10,\n",
    "    verbose=True,\n",
    "    timestep=0.5\n",
    "))\n",
    "\n",
    "nsteps=10000000 #10000k steps = 5 us\n",
    "trajData=bd_Sim.run_sim(\n",
    "    nsteps=nsteps,\n",
    "    giveVelocities=True,\n",
    "    pbar=tqdm.tqdm_notebook(total=nsteps))\n",
    "\n"
   ]
  },
  {
   "cell_type": "code",
   "execution_count": 20,
   "metadata": {},
   "outputs": [
    {
     "name": "stdout",
     "output_type": "stream",
     "text": [
      "\n",
      "binEdges [-8.         -7.05882353 -6.11764706 -5.17647059 -4.23529412 -3.29411765\n",
      " -2.35294118 -1.41176471 -0.47058824  0.47058824  1.41176471  2.35294118\n",
      "  3.29411765  4.23529412  5.17647059  6.11764706  7.05882353  8.        ] binCenters [-7.52941176 -6.58823529 -5.64705882 -4.70588235 -3.76470588 -2.82352941\n",
      " -1.88235294 -0.94117647  0.          0.94117647  1.88235294  2.82352941\n",
      "  3.76470588  4.70588235  5.64705882  6.58823529  7.52941176]\n",
      "normalized histogram [0.000289 0.024134 0.137016 0.165554 0.094271 0.042601 0.021393 0.014048\n",
      " 0.011948 0.013366 0.020416 0.040102 0.091386 0.163821 0.1357   0.023656\n",
      " 0.000299]\n",
      "pmf [ 3.91147206  1.18606056  0.11653173 -0.          0.34683873  0.83606076\n",
      "  1.26031446  1.51936002  1.61908727  1.55001177  1.28910551  0.87329401\n",
      "  0.36598231  0.00648135  0.12247605  1.19838193  3.89052041]\n"
     ]
    },
    {
     "data": {
      "image/png": "[encoded data removed]",
      "text/plain": [
       "<Figure size 432x288 with 1 Axes>"
      ]
     },
     "metadata": {
      "needs_background": "light"
     },
     "output_type": "display_data"
    },
    {
     "data": {
      "image/png": "[encoded data removed]",
      "text/plain": [
       "<Figure size 432x288 with 1 Axes>"
      ]
     },
     "metadata": {
      "needs_background": "light"
     },
     "output_type": "display_data"
    }
   ],
   "source": [
    "# Plot brute-force BD data and PMF\n",
    "\n",
    "kb=0.001985875\n",
    "Tsim=310.15\n",
    "kbT=kb*Tsim\n",
    "binEdges=np.linspace(-8,8,18)\n",
    "binCenters=(binEdges[:-1]+binEdges[1:])/2.\n",
    "print(\"binEdges\", binEdges, \"binCenters\",binCenters)\n",
    "\n",
    "histogram=np.histogram( a=trajData['trajectory'],bins=binEdges)\n",
    "normHist=histogram[0]/np.sum(histogram[0])\n",
    "print(\"normalized histogram\", normHist)\n",
    "print(\"pmf\", -kbT*np.log((normHist)/np.max(normHist)))\n",
    "\n",
    "sns.histplot(trajData['trajectory'],bins=binEdges)\n",
    "plt.show()\n",
    "sns.scatterplot(x=binCenters, y=-kbT*np.log((normHist)/np.max(normHist)), color='r', label=\"raw BD PMF\")\n",
    "sns.scatterplot(x=binCenters,y=potFun(binCenters)-np.min(potFun(binCenters)),label='U(X) (kcal/mol)', alpha=0.5)\n",
    "plt.show()"
   ]
  },
  {
   "cell_type": "code",
   "execution_count": 7,
   "metadata": {},
   "outputs": [],
   "source": [
    "\n",
    "\n",
    "def gen_flat_bottom_harmonic_window_potFun(potFun,win_lhs,win_rhs,kval):\n",
    "    return(\n",
    "        lambda x: potFun(x)+.5*kval * ( (x<win_lhs)*(win_lhs-x)**2 + (x>win_rhs)*(win_rhs-x)**2 )\n",
    "    )\n",
    "def gen_flat_bottom_harmonic_window_potGradFun(potGradFun,win_lhs,win_rhs,kval):\n",
    "    return(\n",
    "        lambda x: potGradFun(x)-kval * ( (x<win_lhs)*(win_lhs-x) + (x>win_rhs)*(win_rhs-x) )\n",
    "    )\n",
    "\n",
    "\n",
    "\n",
    "def only_flat_bottom_harmonic_window_potFun(potFun,win_lhs,win_rhs,kval):\n",
    "    return(\n",
    "        lambda x: .5*kval * ( (x<win_lhs)*(win_lhs-x)**2 + (x>win_rhs)*(win_rhs-x)**2 )\n",
    "    )\n",
    "def only_flat_bottom_harmonic_window_potGradFun(potGradFun,win_lhs,win_rhs,kval):\n",
    "    return(\n",
    "        lambda x: -kval * ( (x<win_lhs)*(win_lhs-x) + (x>win_rhs)*(win_rhs-x) )\n",
    "    )\n"
   ]
  },
  {
   "cell_type": "code",
   "execution_count": 8,
   "metadata": {},
   "outputs": [
    {
     "name": "stdout",
     "output_type": "stream",
     "text": [
      "binEdges [-8.         -7.05882353 -6.11764706 -5.17647059 -4.23529412 -3.29411765\n",
      " -2.35294118 -1.41176471 -0.47058824  0.47058824  1.41176471  2.35294118\n",
      "  3.29411765  4.23529412  5.17647059  6.11764706  7.05882353  8.        ] binCenters [-7.52941176 -6.58823529 -5.64705882 -4.70588235 -3.76470588 -2.82352941\n",
      " -1.88235294 -0.94117647  0.          0.94117647  1.88235294  2.82352941\n",
      "  3.76470588  4.70588235  5.64705882  6.58823529  7.52941176]\n",
      "[-7.52941176 -6.58823529 -5.64705882 -4.70588235 -3.76470588 -2.82352941\n",
      " -1.88235294 -0.94117647  0.          0.94117647  1.88235294  2.82352941\n",
      "  3.76470588  4.70588235  5.64705882  6.58823529  7.52941176]\n"
     ]
    }
   ],
   "source": [
    "# Setup milestone potential\n",
    "\n",
    "binEdges=np.linspace(-8,8,18)\n",
    "binCenters=(binEdges[:-1]+binEdges[1:])/2.\n",
    "print(\"binEdges\", binEdges, \"binCenters\",binCenters)\n",
    "\n",
    "symm_window_edges=binEdges\n",
    "symm_window_lhs=symm_window_edges[:-1]\n",
    "symm_window_rhs=symm_window_edges[1:]\n",
    "symm_window_centers=binCenters\n",
    "symm_window_kVals=np.array([100.]*len(symm_window_centers)) # force constant kVal=100\n",
    "print(symm_window_centers)\n",
    "\n",
    "symm_window_potFuns=[\n",
    "    gen_flat_bottom_harmonic_window_potFun(potFun,wlhs,wrhs,wk) \\\n",
    "    for wlhs,wrhs,wk in np.array([\n",
    "        symm_window_lhs,\n",
    "        symm_window_rhs,\n",
    "        symm_window_kVals\n",
    "    ]).T\n",
    "]\n",
    "\n",
    "symm_window_potGradFuns=[\n",
    "    gen_flat_bottom_harmonic_window_potGradFun(potGradFun,wlhs,wrhs,wk) \\\n",
    "    for wlhs,wrhs,wk in np.array([\n",
    "        symm_window_lhs,\n",
    "        symm_window_rhs,\n",
    "        symm_window_kVals\n",
    "    ]).T\n",
    "]\n",
    "\n"
   ]
  },
  {
   "cell_type": "code",
   "execution_count": 9,
   "metadata": {},
   "outputs": [
    {
     "name": "stdout",
     "output_type": "stream",
     "text": [
      "win 0\n",
      "win 1\n",
      "win 2\n",
      "win 3\n",
      "win 4\n",
      "win 5\n",
      "win 6\n",
      "win 7\n",
      "win 8\n",
      "win 9\n",
      "win 10\n",
      "win 11\n",
      "win 12\n",
      "win 13\n",
      "win 14\n",
      "win 15\n",
      "win 16\n"
     ]
    },
    {
     "data": {
      "image/png": "[encoded data removed]",
      "text/plain": [
       "<Figure size 432x288 with 1 Axes>"
      ]
     },
     "metadata": {
      "needs_background": "light"
     },
     "output_type": "display_data"
    }
   ],
   "source": [
    "# plot milestone potential before running\n",
    "\n",
    "winPot=[]\n",
    "winPotGrad=[]\n",
    "for win in np.arange(0,len(symm_window_centers)):\n",
    "    print(\"win\",win)\n",
    "    winPot=symm_window_potFuns[win]\n",
    "    winPotGrad=symm_window_potGradFuns[win]\n",
    "    \n",
    "    binEdges=np.linspace(-8,8,130)\n",
    "    binCenters=(binEdges[:-1]+binEdges[1:])/2.\n",
    "    xgrid=binCenters\n",
    "\n",
    "    sns.lineplot(\n",
    "        x=xgrid,\n",
    "        y=winPot(xgrid),\n",
    "        #label='symm_win_%02g_U(x)'%win\n",
    "    )\n",
    "    \n",
    "\n",
    "plt.xlabel('X (Å)')\n",
    "plt.ylim(-10,60)\n",
    "plt.show()"
   ]
  },
  {
   "cell_type": "code",
   "execution_count": 23,
   "metadata": {},
   "outputs": [
    {
     "name": "stdout",
     "output_type": "stream",
     "text": [
      "kbT 0.6159191312499999\n",
      "symm_window_centers [-7.52941176 -6.58823529 -5.64705882 -4.70588235 -3.76470588 -2.82352941\n",
      " -1.88235294 -0.94117647  0.          0.94117647  1.88235294  2.82352941\n",
      "  3.76470588  4.70588235  5.64705882  6.58823529  7.52941176]\n"
     ]
    },
    {
     "name": "stderr",
     "output_type": "stream",
     "text": [
      "/cm/shared/apps/jupyter/11.0.0/lib/python3.7/site-packages/ipykernel_launcher.py:25: TqdmDeprecationWarning: This function will be removed in tqdm==5.0.0\n",
      "Please use `tqdm.notebook.tqdm` instead of `tqdm.tqdm_notebook`\n"
     ]
    },
    {
     "data": {
      "application/vnd.jupyter.widget-view+json": {
       "model_id": "7d5b190bab17404dacfc16ccf4010bc2",
       "version_major": 2,
       "version_minor": 0
      },
      "text/plain": [
       "HBox(children=(HTML(value=''), FloatProgress(value=0.0, max=5000000.0), HTML(value='')))"
      ]
     },
     "metadata": {},
     "output_type": "display_data"
    },
    {
     "name": "stdout",
     "output_type": "stream",
     "text": [
      "5000000\n"
     ]
    },
    {
     "name": "stderr",
     "output_type": "stream",
     "text": [
      "/home/lyna/.local/lib/python3.7/site-packages/seaborn/distributions.py:2551: FutureWarning: `distplot` is a deprecated function and will be removed in a future version. Please adapt your code to use either `displot` (a figure-level function with similar flexibility) or `histplot` (an axes-level function for histograms).\n",
      "  warnings.warn(msg, FutureWarning)\n"
     ]
    },
    {
     "name": "stdout",
     "output_type": "stream",
     "text": [
      "\n"
     ]
    },
    {
     "name": "stderr",
     "output_type": "stream",
     "text": [
      "/cm/shared/apps/jupyter/11.0.0/lib/python3.7/site-packages/ipykernel_launcher.py:25: TqdmDeprecationWarning: This function will be removed in tqdm==5.0.0\n",
      "Please use `tqdm.notebook.tqdm` instead of `tqdm.tqdm_notebook`\n"
     ]
    },
    {
     "data": {
      "application/vnd.jupyter.widget-view+json": {
       "model_id": "25494662ac334736a9aaf929b6ff17c7",
       "version_major": 2,
       "version_minor": 0
      },
      "text/plain": [
       "HBox(children=(HTML(value=''), FloatProgress(value=0.0, max=5000000.0), HTML(value='')))"
      ]
     },
     "metadata": {},
     "output_type": "display_data"
    },
    {
     "name": "stdout",
     "output_type": "stream",
     "text": [
      "5000000\n"
     ]
    },
    {
     "name": "stderr",
     "output_type": "stream",
     "text": [
      "/home/lyna/.local/lib/python3.7/site-packages/seaborn/distributions.py:2551: FutureWarning: `distplot` is a deprecated function and will be removed in a future version. Please adapt your code to use either `displot` (a figure-level function with similar flexibility) or `histplot` (an axes-level function for histograms).\n",
      "  warnings.warn(msg, FutureWarning)\n"
     ]
    },
    {
     "name": "stdout",
     "output_type": "stream",
     "text": [
      "\n"
     ]
    },
    {
     "name": "stderr",
     "output_type": "stream",
     "text": [
      "/cm/shared/apps/jupyter/11.0.0/lib/python3.7/site-packages/ipykernel_launcher.py:25: TqdmDeprecationWarning: This function will be removed in tqdm==5.0.0\n",
      "Please use `tqdm.notebook.tqdm` instead of `tqdm.tqdm_notebook`\n"
     ]
    },
    {
     "data": {
      "application/vnd.jupyter.widget-view+json": {
       "model_id": "29221a231783421eb7f259ccdbefa786",
       "version_major": 2,
       "version_minor": 0
      },
      "text/plain": [
       "HBox(children=(HTML(value=''), FloatProgress(value=0.0, max=5000000.0), HTML(value='')))"
      ]
     },
     "metadata": {},
     "output_type": "display_data"
    },
    {
     "name": "stdout",
     "output_type": "stream",
     "text": [
      "5000000\n"
     ]
    },
    {
     "name": "stderr",
     "output_type": "stream",
     "text": [
      "/home/lyna/.local/lib/python3.7/site-packages/seaborn/distributions.py:2551: FutureWarning: `distplot` is a deprecated function and will be removed in a future version. Please adapt your code to use either `displot` (a figure-level function with similar flexibility) or `histplot` (an axes-level function for histograms).\n",
      "  warnings.warn(msg, FutureWarning)\n"
     ]
    },
    {
     "name": "stdout",
     "output_type": "stream",
     "text": [
      "\n"
     ]
    },
    {
     "name": "stderr",
     "output_type": "stream",
     "text": [
      "/cm/shared/apps/jupyter/11.0.0/lib/python3.7/site-packages/ipykernel_launcher.py:25: TqdmDeprecationWarning: This function will be removed in tqdm==5.0.0\n",
      "Please use `tqdm.notebook.tqdm` instead of `tqdm.tqdm_notebook`\n"
     ]
    },
    {
     "data": {
      "application/vnd.jupyter.widget-view+json": {
       "model_id": "890ed4d8af3043239e0ad3e57fee71ac",
       "version_major": 2,
       "version_minor": 0
      },
      "text/plain": [
       "HBox(children=(HTML(value=''), FloatProgress(value=0.0, max=5000000.0), HTML(value='')))"
      ]
     },
     "metadata": {},
     "output_type": "display_data"
    },
    {
     "name": "stdout",
     "output_type": "stream",
     "text": [
      "5000000\n"
     ]
    },
    {
     "name": "stderr",
     "output_type": "stream",
     "text": [
      "/home/lyna/.local/lib/python3.7/site-packages/seaborn/distributions.py:2551: FutureWarning: `distplot` is a deprecated function and will be removed in a future version. Please adapt your code to use either `displot` (a figure-level function with similar flexibility) or `histplot` (an axes-level function for histograms).\n",
      "  warnings.warn(msg, FutureWarning)\n"
     ]
    },
    {
     "name": "stdout",
     "output_type": "stream",
     "text": [
      "\n"
     ]
    },
    {
     "name": "stderr",
     "output_type": "stream",
     "text": [
      "/cm/shared/apps/jupyter/11.0.0/lib/python3.7/site-packages/ipykernel_launcher.py:25: TqdmDeprecationWarning: This function will be removed in tqdm==5.0.0\n",
      "Please use `tqdm.notebook.tqdm` instead of `tqdm.tqdm_notebook`\n"
     ]
    },
    {
     "data": {
      "application/vnd.jupyter.widget-view+json": {
       "model_id": "5cdc4258ca864f37a94fd55bffc57cb5",
       "version_major": 2,
       "version_minor": 0
      },
      "text/plain": [
       "HBox(children=(HTML(value=''), FloatProgress(value=0.0, max=5000000.0), HTML(value='')))"
      ]
     },
     "metadata": {},
     "output_type": "display_data"
    },
    {
     "name": "stdout",
     "output_type": "stream",
     "text": [
      "5000000\n"
     ]
    },
    {
     "name": "stderr",
     "output_type": "stream",
     "text": [
      "/home/lyna/.local/lib/python3.7/site-packages/seaborn/distributions.py:2551: FutureWarning: `distplot` is a deprecated function and will be removed in a future version. Please adapt your code to use either `displot` (a figure-level function with similar flexibility) or `histplot` (an axes-level function for histograms).\n",
      "  warnings.warn(msg, FutureWarning)\n"
     ]
    },
    {
     "name": "stdout",
     "output_type": "stream",
     "text": [
      "\n"
     ]
    },
    {
     "name": "stderr",
     "output_type": "stream",
     "text": [
      "/cm/shared/apps/jupyter/11.0.0/lib/python3.7/site-packages/ipykernel_launcher.py:25: TqdmDeprecationWarning: This function will be removed in tqdm==5.0.0\n",
      "Please use `tqdm.notebook.tqdm` instead of `tqdm.tqdm_notebook`\n"
     ]
    },
    {
     "data": {
      "application/vnd.jupyter.widget-view+json": {
       "model_id": "8b883c2ef59043c2a8e43c069f901ef1",
       "version_major": 2,
       "version_minor": 0
      },
      "text/plain": [
       "HBox(children=(HTML(value=''), FloatProgress(value=0.0, max=5000000.0), HTML(value='')))"
      ]
     },
     "metadata": {},
     "output_type": "display_data"
    },
    {
     "name": "stdout",
     "output_type": "stream",
     "text": [
      "5000000\n"
     ]
    },
    {
     "name": "stderr",
     "output_type": "stream",
     "text": [
      "/home/lyna/.local/lib/python3.7/site-packages/seaborn/distributions.py:2551: FutureWarning: `distplot` is a deprecated function and will be removed in a future version. Please adapt your code to use either `displot` (a figure-level function with similar flexibility) or `histplot` (an axes-level function for histograms).\n",
      "  warnings.warn(msg, FutureWarning)\n"
     ]
    },
    {
     "name": "stdout",
     "output_type": "stream",
     "text": [
      "\n"
     ]
    },
    {
     "name": "stderr",
     "output_type": "stream",
     "text": [
      "/cm/shared/apps/jupyter/11.0.0/lib/python3.7/site-packages/ipykernel_launcher.py:25: TqdmDeprecationWarning: This function will be removed in tqdm==5.0.0\n",
      "Please use `tqdm.notebook.tqdm` instead of `tqdm.tqdm_notebook`\n"
     ]
    },
    {
     "data": {
      "application/vnd.jupyter.widget-view+json": {
       "model_id": "5bdfa85eafbb4e84a8d304f45acefcf1",
       "version_major": 2,
       "version_minor": 0
      },
      "text/plain": [
       "HBox(children=(HTML(value=''), FloatProgress(value=0.0, max=5000000.0), HTML(value='')))"
      ]
     },
     "metadata": {},
     "output_type": "display_data"
    },
    {
     "name": "stdout",
     "output_type": "stream",
     "text": [
      "5000000\n"
     ]
    },
    {
     "name": "stderr",
     "output_type": "stream",
     "text": [
      "/home/lyna/.local/lib/python3.7/site-packages/seaborn/distributions.py:2551: FutureWarning: `distplot` is a deprecated function and will be removed in a future version. Please adapt your code to use either `displot` (a figure-level function with similar flexibility) or `histplot` (an axes-level function for histograms).\n",
      "  warnings.warn(msg, FutureWarning)\n"
     ]
    },
    {
     "name": "stdout",
     "output_type": "stream",
     "text": [
      "\n"
     ]
    },
    {
     "name": "stderr",
     "output_type": "stream",
     "text": [
      "/cm/shared/apps/jupyter/11.0.0/lib/python3.7/site-packages/ipykernel_launcher.py:25: TqdmDeprecationWarning: This function will be removed in tqdm==5.0.0\n",
      "Please use `tqdm.notebook.tqdm` instead of `tqdm.tqdm_notebook`\n"
     ]
    },
    {
     "data": {
      "application/vnd.jupyter.widget-view+json": {
       "model_id": "d43a45c6024d4d7db816440ae0aa4b24",
       "version_major": 2,
       "version_minor": 0
      },
      "text/plain": [
       "HBox(children=(HTML(value=''), FloatProgress(value=0.0, max=5000000.0), HTML(value='')))"
      ]
     },
     "metadata": {},
     "output_type": "display_data"
    },
    {
     "name": "stdout",
     "output_type": "stream",
     "text": [
      "5000000\n"
     ]
    },
    {
     "name": "stderr",
     "output_type": "stream",
     "text": [
      "/home/lyna/.local/lib/python3.7/site-packages/seaborn/distributions.py:2551: FutureWarning: `distplot` is a deprecated function and will be removed in a future version. Please adapt your code to use either `displot` (a figure-level function with similar flexibility) or `histplot` (an axes-level function for histograms).\n",
      "  warnings.warn(msg, FutureWarning)\n"
     ]
    },
    {
     "name": "stdout",
     "output_type": "stream",
     "text": [
      "\n"
     ]
    },
    {
     "name": "stderr",
     "output_type": "stream",
     "text": [
      "/cm/shared/apps/jupyter/11.0.0/lib/python3.7/site-packages/ipykernel_launcher.py:25: TqdmDeprecationWarning: This function will be removed in tqdm==5.0.0\n",
      "Please use `tqdm.notebook.tqdm` instead of `tqdm.tqdm_notebook`\n"
     ]
    },
    {
     "data": {
      "application/vnd.jupyter.widget-view+json": {
       "model_id": "5abae4f983b14c308dda26204c84b80b",
       "version_major": 2,
       "version_minor": 0
      },
      "text/plain": [
       "HBox(children=(HTML(value=''), FloatProgress(value=0.0, max=5000000.0), HTML(value='')))"
      ]
     },
     "metadata": {},
     "output_type": "display_data"
    },
    {
     "name": "stdout",
     "output_type": "stream",
     "text": [
      "5000000\n"
     ]
    },
    {
     "name": "stderr",
     "output_type": "stream",
     "text": [
      "/home/lyna/.local/lib/python3.7/site-packages/seaborn/distributions.py:2551: FutureWarning: `distplot` is a deprecated function and will be removed in a future version. Please adapt your code to use either `displot` (a figure-level function with similar flexibility) or `histplot` (an axes-level function for histograms).\n",
      "  warnings.warn(msg, FutureWarning)\n"
     ]
    },
    {
     "name": "stdout",
     "output_type": "stream",
     "text": [
      "\n"
     ]
    },
    {
     "name": "stderr",
     "output_type": "stream",
     "text": [
      "/cm/shared/apps/jupyter/11.0.0/lib/python3.7/site-packages/ipykernel_launcher.py:25: TqdmDeprecationWarning: This function will be removed in tqdm==5.0.0\n",
      "Please use `tqdm.notebook.tqdm` instead of `tqdm.tqdm_notebook`\n"
     ]
    },
    {
     "data": {
      "application/vnd.jupyter.widget-view+json": {
       "model_id": "4c3c8628589d4a61b5c61568f3a0ec6e",
       "version_major": 2,
       "version_minor": 0
      },
      "text/plain": [
       "HBox(children=(HTML(value=''), FloatProgress(value=0.0, max=5000000.0), HTML(value='')))"
      ]
     },
     "metadata": {},
     "output_type": "display_data"
    },
    {
     "name": "stdout",
     "output_type": "stream",
     "text": [
      "5000000\n"
     ]
    },
    {
     "name": "stderr",
     "output_type": "stream",
     "text": [
      "/home/lyna/.local/lib/python3.7/site-packages/seaborn/distributions.py:2551: FutureWarning: `distplot` is a deprecated function and will be removed in a future version. Please adapt your code to use either `displot` (a figure-level function with similar flexibility) or `histplot` (an axes-level function for histograms).\n",
      "  warnings.warn(msg, FutureWarning)\n"
     ]
    },
    {
     "name": "stdout",
     "output_type": "stream",
     "text": [
      "\n"
     ]
    },
    {
     "name": "stderr",
     "output_type": "stream",
     "text": [
      "/cm/shared/apps/jupyter/11.0.0/lib/python3.7/site-packages/ipykernel_launcher.py:25: TqdmDeprecationWarning: This function will be removed in tqdm==5.0.0\n",
      "Please use `tqdm.notebook.tqdm` instead of `tqdm.tqdm_notebook`\n"
     ]
    },
    {
     "data": {
      "application/vnd.jupyter.widget-view+json": {
       "model_id": "8f701b26788b459d83dee058257068e8",
       "version_major": 2,
       "version_minor": 0
      },
      "text/plain": [
       "HBox(children=(HTML(value=''), FloatProgress(value=0.0, max=5000000.0), HTML(value='')))"
      ]
     },
     "metadata": {},
     "output_type": "display_data"
    },
    {
     "name": "stdout",
     "output_type": "stream",
     "text": [
      "5000000\n"
     ]
    },
    {
     "name": "stderr",
     "output_type": "stream",
     "text": [
      "/home/lyna/.local/lib/python3.7/site-packages/seaborn/distributions.py:2551: FutureWarning: `distplot` is a deprecated function and will be removed in a future version. Please adapt your code to use either `displot` (a figure-level function with similar flexibility) or `histplot` (an axes-level function for histograms).\n",
      "  warnings.warn(msg, FutureWarning)\n"
     ]
    },
    {
     "name": "stdout",
     "output_type": "stream",
     "text": [
      "\n"
     ]
    },
    {
     "name": "stderr",
     "output_type": "stream",
     "text": [
      "/cm/shared/apps/jupyter/11.0.0/lib/python3.7/site-packages/ipykernel_launcher.py:25: TqdmDeprecationWarning: This function will be removed in tqdm==5.0.0\n",
      "Please use `tqdm.notebook.tqdm` instead of `tqdm.tqdm_notebook`\n"
     ]
    },
    {
     "data": {
      "application/vnd.jupyter.widget-view+json": {
       "model_id": "6d1b16183f87460a809c6ab16243adb1",
       "version_major": 2,
       "version_minor": 0
      },
      "text/plain": [
       "HBox(children=(HTML(value=''), FloatProgress(value=0.0, max=5000000.0), HTML(value='')))"
      ]
     },
     "metadata": {},
     "output_type": "display_data"
    },
    {
     "name": "stdout",
     "output_type": "stream",
     "text": [
      "5000000\n"
     ]
    },
    {
     "name": "stderr",
     "output_type": "stream",
     "text": [
      "/home/lyna/.local/lib/python3.7/site-packages/seaborn/distributions.py:2551: FutureWarning: `distplot` is a deprecated function and will be removed in a future version. Please adapt your code to use either `displot` (a figure-level function with similar flexibility) or `histplot` (an axes-level function for histograms).\n",
      "  warnings.warn(msg, FutureWarning)\n"
     ]
    },
    {
     "name": "stdout",
     "output_type": "stream",
     "text": [
      "\n"
     ]
    },
    {
     "name": "stderr",
     "output_type": "stream",
     "text": [
      "/cm/shared/apps/jupyter/11.0.0/lib/python3.7/site-packages/ipykernel_launcher.py:25: TqdmDeprecationWarning: This function will be removed in tqdm==5.0.0\n",
      "Please use `tqdm.notebook.tqdm` instead of `tqdm.tqdm_notebook`\n"
     ]
    },
    {
     "data": {
      "application/vnd.jupyter.widget-view+json": {
       "model_id": "4616b18ba012417288a1abdb2f059363",
       "version_major": 2,
       "version_minor": 0
      },
      "text/plain": [
       "HBox(children=(HTML(value=''), FloatProgress(value=0.0, max=5000000.0), HTML(value='')))"
      ]
     },
     "metadata": {},
     "output_type": "display_data"
    },
    {
     "name": "stdout",
     "output_type": "stream",
     "text": [
      "5000000\n"
     ]
    },
    {
     "name": "stderr",
     "output_type": "stream",
     "text": [
      "/home/lyna/.local/lib/python3.7/site-packages/seaborn/distributions.py:2551: FutureWarning: `distplot` is a deprecated function and will be removed in a future version. Please adapt your code to use either `displot` (a figure-level function with similar flexibility) or `histplot` (an axes-level function for histograms).\n",
      "  warnings.warn(msg, FutureWarning)\n"
     ]
    },
    {
     "name": "stdout",
     "output_type": "stream",
     "text": [
      "\n"
     ]
    },
    {
     "name": "stderr",
     "output_type": "stream",
     "text": [
      "/cm/shared/apps/jupyter/11.0.0/lib/python3.7/site-packages/ipykernel_launcher.py:25: TqdmDeprecationWarning: This function will be removed in tqdm==5.0.0\n",
      "Please use `tqdm.notebook.tqdm` instead of `tqdm.tqdm_notebook`\n"
     ]
    },
    {
     "data": {
      "application/vnd.jupyter.widget-view+json": {
       "model_id": "75a2d46ae6094f94b9d4d0652a52d70a",
       "version_major": 2,
       "version_minor": 0
      },
      "text/plain": [
       "HBox(children=(HTML(value=''), FloatProgress(value=0.0, max=5000000.0), HTML(value='')))"
      ]
     },
     "metadata": {},
     "output_type": "display_data"
    },
    {
     "name": "stdout",
     "output_type": "stream",
     "text": [
      "5000000\n"
     ]
    },
    {
     "name": "stderr",
     "output_type": "stream",
     "text": [
      "/home/lyna/.local/lib/python3.7/site-packages/seaborn/distributions.py:2551: FutureWarning: `distplot` is a deprecated function and will be removed in a future version. Please adapt your code to use either `displot` (a figure-level function with similar flexibility) or `histplot` (an axes-level function for histograms).\n",
      "  warnings.warn(msg, FutureWarning)\n"
     ]
    },
    {
     "name": "stdout",
     "output_type": "stream",
     "text": [
      "\n"
     ]
    },
    {
     "name": "stderr",
     "output_type": "stream",
     "text": [
      "/cm/shared/apps/jupyter/11.0.0/lib/python3.7/site-packages/ipykernel_launcher.py:25: TqdmDeprecationWarning: This function will be removed in tqdm==5.0.0\n",
      "Please use `tqdm.notebook.tqdm` instead of `tqdm.tqdm_notebook`\n"
     ]
    },
    {
     "data": {
      "application/vnd.jupyter.widget-view+json": {
       "model_id": "9344936a9a2144acac1efd13968cc153",
       "version_major": 2,
       "version_minor": 0
      },
      "text/plain": [
       "HBox(children=(HTML(value=''), FloatProgress(value=0.0, max=5000000.0), HTML(value='')))"
      ]
     },
     "metadata": {},
     "output_type": "display_data"
    },
    {
     "name": "stdout",
     "output_type": "stream",
     "text": [
      "5000000\n"
     ]
    },
    {
     "name": "stderr",
     "output_type": "stream",
     "text": [
      "/home/lyna/.local/lib/python3.7/site-packages/seaborn/distributions.py:2551: FutureWarning: `distplot` is a deprecated function and will be removed in a future version. Please adapt your code to use either `displot` (a figure-level function with similar flexibility) or `histplot` (an axes-level function for histograms).\n",
      "  warnings.warn(msg, FutureWarning)\n"
     ]
    },
    {
     "name": "stdout",
     "output_type": "stream",
     "text": [
      "\n"
     ]
    },
    {
     "name": "stderr",
     "output_type": "stream",
     "text": [
      "/cm/shared/apps/jupyter/11.0.0/lib/python3.7/site-packages/ipykernel_launcher.py:25: TqdmDeprecationWarning: This function will be removed in tqdm==5.0.0\n",
      "Please use `tqdm.notebook.tqdm` instead of `tqdm.tqdm_notebook`\n"
     ]
    },
    {
     "data": {
      "application/vnd.jupyter.widget-view+json": {
       "model_id": "3342fb162412486f801eaa8790c74cae",
       "version_major": 2,
       "version_minor": 0
      },
      "text/plain": [
       "HBox(children=(HTML(value=''), FloatProgress(value=0.0, max=5000000.0), HTML(value='')))"
      ]
     },
     "metadata": {},
     "output_type": "display_data"
    },
    {
     "name": "stdout",
     "output_type": "stream",
     "text": [
      "5000000\n"
     ]
    },
    {
     "name": "stderr",
     "output_type": "stream",
     "text": [
      "/home/lyna/.local/lib/python3.7/site-packages/seaborn/distributions.py:2551: FutureWarning: `distplot` is a deprecated function and will be removed in a future version. Please adapt your code to use either `displot` (a figure-level function with similar flexibility) or `histplot` (an axes-level function for histograms).\n",
      "  warnings.warn(msg, FutureWarning)\n"
     ]
    },
    {
     "name": "stdout",
     "output_type": "stream",
     "text": [
      "\n"
     ]
    },
    {
     "name": "stderr",
     "output_type": "stream",
     "text": [
      "/cm/shared/apps/jupyter/11.0.0/lib/python3.7/site-packages/ipykernel_launcher.py:25: TqdmDeprecationWarning: This function will be removed in tqdm==5.0.0\n",
      "Please use `tqdm.notebook.tqdm` instead of `tqdm.tqdm_notebook`\n"
     ]
    },
    {
     "data": {
      "application/vnd.jupyter.widget-view+json": {
       "model_id": "1a9102d6963b4ce0b1e01ad5de8f5d9a",
       "version_major": 2,
       "version_minor": 0
      },
      "text/plain": [
       "HBox(children=(HTML(value=''), FloatProgress(value=0.0, max=5000000.0), HTML(value='')))"
      ]
     },
     "metadata": {},
     "output_type": "display_data"
    },
    {
     "name": "stdout",
     "output_type": "stream",
     "text": [
      "5000000\n"
     ]
    },
    {
     "name": "stderr",
     "output_type": "stream",
     "text": [
      "/home/lyna/.local/lib/python3.7/site-packages/seaborn/distributions.py:2551: FutureWarning: `distplot` is a deprecated function and will be removed in a future version. Please adapt your code to use either `displot` (a figure-level function with similar flexibility) or `histplot` (an axes-level function for histograms).\n",
      "  warnings.warn(msg, FutureWarning)\n"
     ]
    },
    {
     "data": {
      "image/png": "[encoded data removed]",
      "text/plain": [
       "<Figure size 432x288 with 1 Axes>"
      ]
     },
     "metadata": {
      "needs_background": "light"
     },
     "output_type": "display_data"
    }
   ],
   "source": [
    "# Run milestoning\n",
    "\n",
    "diffCoef=.0282*310.15/298.15\n",
    "kb=0.001985875\n",
    "Tsim=310.15\n",
    "kbT=kb*Tsim\n",
    "print(\"kbT\",kbT, )\n",
    "print(\"symm_window_centers\",symm_window_centers)\n",
    "\n",
    "symm_win_sim_data=[]\n",
    "for iWin,winCenter in enumerate(symm_window_centers):\n",
    "    win_potGradFun=symm_window_potGradFuns[iWin]\n",
    "    bd_Sim=analysis_functions.Simple_1D_BD_Sim(win_potGradFun)\n",
    "    bd_Sim.set_parameters(dict(\n",
    "        diffusionConstant=diffCoef,\n",
    "        vmax=15.0,\n",
    "        trajectorySnapshotRate=10,\n",
    "        verbose=True,\n",
    "        timestep=0.5\n",
    "    ))\n",
    "    bd_Sim.set_x0(winCenter)\n",
    "\n",
    "    nsteps=5000000 #5000k steps x8 windows x 0.5 fs= 20 us, sufficeint to converge brute-force BD\n",
    "    symm_win_sim_data.append(bd_Sim.run_sim(nsteps=nsteps,giveVelocities=True,\n",
    "        pbar=tqdm.tqdm_notebook(total=nsteps)))\n",
    "    trajData=symm_win_sim_data[iWin]\n",
    "    binEdges=np.linspace(-8,8,130)\n",
    "    binCenters=(binEdges[:-1]+binEdges[1:])/2.\n",
    "    xgrid=binCenters\n",
    "    sns.distplot(trajData['trajectory'],bins=binEdges, color=None)\n",
    "\n",
    "plt.xlabel('X (Å)')\n",
    "plt.show()"
   ]
  },
  {
   "cell_type": "code",
   "execution_count": 24,
   "metadata": {},
   "outputs": [
    {
     "name": "stdout",
     "output_type": "stream",
     "text": [
      "500000\n",
      "saving window setup data\n"
     ]
    },
    {
     "data": {
      "text/html": [
       "<div>\n",
       "<style scoped>\n",
       "    .dataframe tbody tr th:only-of-type {\n",
       "        vertical-align: middle;\n",
       "    }\n",
       "\n",
       "    .dataframe tbody tr th {\n",
       "        vertical-align: top;\n",
       "    }\n",
       "\n",
       "    .dataframe thead th {\n",
       "        text-align: right;\n",
       "    }\n",
       "</style>\n",
       "<table border=\"1\" class=\"dataframe\">\n",
       "  <thead>\n",
       "    <tr style=\"text-align: right;\">\n",
       "      <th></th>\n",
       "      <th>Window</th>\n",
       "      <th>LHS_Edge</th>\n",
       "      <th>Center</th>\n",
       "      <th>RHS_Edge</th>\n",
       "    </tr>\n",
       "  </thead>\n",
       "  <tbody>\n",
       "    <tr>\n",
       "      <th>0</th>\n",
       "      <td>0</td>\n",
       "      <td>-8.000000</td>\n",
       "      <td>-7.529412</td>\n",
       "      <td>-7.058824</td>\n",
       "    </tr>\n",
       "    <tr>\n",
       "      <th>1</th>\n",
       "      <td>1</td>\n",
       "      <td>-7.058824</td>\n",
       "      <td>-6.588235</td>\n",
       "      <td>-6.117647</td>\n",
       "    </tr>\n",
       "    <tr>\n",
       "      <th>2</th>\n",
       "      <td>2</td>\n",
       "      <td>-6.117647</td>\n",
       "      <td>-5.647059</td>\n",
       "      <td>-5.176471</td>\n",
       "    </tr>\n",
       "    <tr>\n",
       "      <th>3</th>\n",
       "      <td>3</td>\n",
       "      <td>-5.176471</td>\n",
       "      <td>-4.705882</td>\n",
       "      <td>-4.235294</td>\n",
       "    </tr>\n",
       "    <tr>\n",
       "      <th>4</th>\n",
       "      <td>4</td>\n",
       "      <td>-4.235294</td>\n",
       "      <td>-3.764706</td>\n",
       "      <td>-3.294118</td>\n",
       "    </tr>\n",
       "  </tbody>\n",
       "</table>\n",
       "</div>"
      ],
      "text/plain": [
       "   Window  LHS_Edge    Center  RHS_Edge\n",
       "0       0 -8.000000 -7.529412 -7.058824\n",
       "1       1 -7.058824 -6.588235 -6.117647\n",
       "2       2 -6.117647 -5.647059 -5.176471\n",
       "3       3 -5.176471 -4.705882 -4.235294\n",
       "4       4 -4.235294 -3.764706 -3.294118"
      ]
     },
     "metadata": {},
     "output_type": "display_data"
    }
   ],
   "source": [
    "# Save milestoning data\n",
    "\n",
    "for iWin,winData in enumerate(symm_win_sim_data):\n",
    "    stepsPerWindow=(len(winData['trajectory']))\n",
    "print(stepsPerWindow)\n",
    "\n",
    "milestone_data_table=pd.DataFrame({\n",
    "    'Window':(np.array([[iWin]*len(winData['trajectory']) for iWin,winData in enumerate(symm_win_sim_data)])).flatten(),\n",
    "    'X':(np.array([winData['trajectory'] for winData in symm_win_sim_data])).flatten(),\n",
    "    \"WindowCenter\":((np.array([[winCenter]*stepsPerWindow for iWin,winCenter in enumerate(symm_window_centers)])).flatten()),\n",
    "    #\"WindowLeft\":((np.array([[winCenter]*stepsPerWindow for iWin,winCenter in enumerate(symm_window_centers)])-1.5).flatten()),\n",
    "    #\"WindowRight\":((np.array([[winCenter]*stepsPerWindow for iWin,winCenter in enumerate(symm_window_centers)])+1.5).flatten()),\n",
    "})\n",
    "milestone_data_table['X_Ind']=milestone_data_table['X'].map(lambda x: np.argmin(np.abs(x-symm_window_centers)))\n",
    "milestone_data_table\n",
    "milestone_data_table.to_csv('data_window.csv',index=False)\n",
    "\n",
    "symm_window_data=pd.DataFrame({\n",
    "    'Window':np.arange(len(symm_window_centers)),\n",
    "    'LHS_Edge':symm_window_lhs,\n",
    "    'Center':symm_window_centers,\n",
    "    'RHS_Edge':symm_window_rhs\n",
    "})\n",
    "print('saving window setup data')\n",
    "display(symm_window_data.head())\n",
    "symm_window_data.to_csv('setup_windows.csv',index=False)"
   ]
  },
  {
   "cell_type": "code",
   "execution_count": 25,
   "metadata": {
    "scrolled": true
   },
   "outputs": [
    {
     "name": "stdout",
     "output_type": "stream",
     "text": [
      "   Window         X  WindowCenter  X_Ind\n",
      "0       0 -7.529412     -7.529412      0\n",
      "1       0 -7.017491     -7.529412      1\n",
      "2       0 -7.117359     -7.529412      0\n",
      "3       0 -7.391263     -7.529412      0\n",
      "4       0 -7.213458     -7.529412      0\n"
     ]
    },
    {
     "name": "stderr",
     "output_type": "stream",
     "text": [
      "/cm/shared/apps/jupyter/11.0.0/lib/python3.7/site-packages/ipykernel_launcher.py:8: TqdmDeprecationWarning: This function will be removed in tqdm==5.0.0\n",
      "Please use `tqdm.notebook.tqdm` instead of `tqdm.tqdm_notebook`\n",
      "  \n"
     ]
    },
    {
     "data": {
      "application/vnd.jupyter.widget-view+json": {
       "model_id": "3e82c6c12673428198cb8cb9a9413c3b",
       "version_major": 2,
       "version_minor": 0
      },
      "text/plain": [
       "HBox(children=(HTML(value=''), FloatProgress(value=0.0, max=17.0), HTML(value='')))"
      ]
     },
     "metadata": {},
     "output_type": "display_data"
    },
    {
     "name": "stdout",
     "output_type": "stream",
     "text": [
      "\n",
      "\n"
     ]
    },
    {
     "data": {
      "text/html": [
       "<div>\n",
       "<style scoped>\n",
       "    .dataframe tbody tr th:only-of-type {\n",
       "        vertical-align: middle;\n",
       "    }\n",
       "\n",
       "    .dataframe tbody tr th {\n",
       "        vertical-align: top;\n",
       "    }\n",
       "\n",
       "    .dataframe thead th {\n",
       "        text-align: right;\n",
       "    }\n",
       "</style>\n",
       "<table border=\"1\" class=\"dataframe\">\n",
       "  <thead>\n",
       "    <tr style=\"text-align: right;\">\n",
       "      <th></th>\n",
       "      <th>Replica</th>\n",
       "      <th>Window</th>\n",
       "      <th>Frame</th>\n",
       "      <th>X</th>\n",
       "      <th>X_Ind</th>\n",
       "    </tr>\n",
       "  </thead>\n",
       "  <tbody>\n",
       "    <tr>\n",
       "      <th>0</th>\n",
       "      <td>0</td>\n",
       "      <td>0</td>\n",
       "      <td>0</td>\n",
       "      <td>-7.529412</td>\n",
       "      <td>0</td>\n",
       "    </tr>\n",
       "    <tr>\n",
       "      <th>1</th>\n",
       "      <td>0</td>\n",
       "      <td>0</td>\n",
       "      <td>1</td>\n",
       "      <td>-7.017491</td>\n",
       "      <td>1</td>\n",
       "    </tr>\n",
       "    <tr>\n",
       "      <th>2</th>\n",
       "      <td>0</td>\n",
       "      <td>0</td>\n",
       "      <td>2</td>\n",
       "      <td>-7.117359</td>\n",
       "      <td>0</td>\n",
       "    </tr>\n",
       "    <tr>\n",
       "      <th>3</th>\n",
       "      <td>0</td>\n",
       "      <td>0</td>\n",
       "      <td>3</td>\n",
       "      <td>-7.391263</td>\n",
       "      <td>0</td>\n",
       "    </tr>\n",
       "    <tr>\n",
       "      <th>4</th>\n",
       "      <td>0</td>\n",
       "      <td>0</td>\n",
       "      <td>4</td>\n",
       "      <td>-7.213458</td>\n",
       "      <td>0</td>\n",
       "    </tr>\n",
       "    <tr>\n",
       "      <th>...</th>\n",
       "      <td>...</td>\n",
       "      <td>...</td>\n",
       "      <td>...</td>\n",
       "      <td>...</td>\n",
       "      <td>...</td>\n",
       "    </tr>\n",
       "    <tr>\n",
       "      <th>8499995</th>\n",
       "      <td>0</td>\n",
       "      <td>16</td>\n",
       "      <td>499995</td>\n",
       "      <td>7.142526</td>\n",
       "      <td>16</td>\n",
       "    </tr>\n",
       "    <tr>\n",
       "      <th>8499996</th>\n",
       "      <td>0</td>\n",
       "      <td>16</td>\n",
       "      <td>499996</td>\n",
       "      <td>7.314528</td>\n",
       "      <td>16</td>\n",
       "    </tr>\n",
       "    <tr>\n",
       "      <th>8499997</th>\n",
       "      <td>0</td>\n",
       "      <td>16</td>\n",
       "      <td>499997</td>\n",
       "      <td>7.249353</td>\n",
       "      <td>16</td>\n",
       "    </tr>\n",
       "    <tr>\n",
       "      <th>8499998</th>\n",
       "      <td>0</td>\n",
       "      <td>16</td>\n",
       "      <td>499998</td>\n",
       "      <td>6.773299</td>\n",
       "      <td>15</td>\n",
       "    </tr>\n",
       "    <tr>\n",
       "      <th>8499999</th>\n",
       "      <td>0</td>\n",
       "      <td>16</td>\n",
       "      <td>499999</td>\n",
       "      <td>7.419008</td>\n",
       "      <td>16</td>\n",
       "    </tr>\n",
       "  </tbody>\n",
       "</table>\n",
       "<p>8500000 rows × 5 columns</p>\n",
       "</div>"
      ],
      "text/plain": [
       "         Replica  Window   Frame         X  X_Ind\n",
       "0              0       0       0 -7.529412      0\n",
       "1              0       0       1 -7.017491      1\n",
       "2              0       0       2 -7.117359      0\n",
       "3              0       0       3 -7.391263      0\n",
       "4              0       0       4 -7.213458      0\n",
       "...          ...     ...     ...       ...    ...\n",
       "8499995        0      16  499995  7.142526     16\n",
       "8499996        0      16  499996  7.314528     16\n",
       "8499997        0      16  499997  7.249353     16\n",
       "8499998        0      16  499998  6.773299     15\n",
       "8499999        0      16  499999  7.419008     16\n",
       "\n",
       "[8500000 rows x 5 columns]"
      ]
     },
     "execution_count": 25,
     "metadata": {},
     "output_type": "execute_result"
    }
   ],
   "source": [
    "# Compute milestoning PMF\n",
    "\n",
    "# add a frame column for each window\n",
    "milestoneSimulationsData=milestone_data_table\n",
    "print(milestoneSimulationsData.head())\n",
    "\n",
    "tempFrames=[]\n",
    "with tqdm.tqdm_notebook(milestoneSimulationsData.groupby(['Window'])) as pbar:\n",
    "    for group in pbar:\n",
    "        groupName,groupData=group\n",
    "        tempFrame=groupData.copy()\n",
    "        tempFrame['Frame']=np.arange(len(tempFrame))\n",
    "        tempFrame['Replica']=0\n",
    "        tempFrame=tempFrame[['Replica','Window','Frame','X','X_Ind']]\n",
    "        tempFrames.append(tempFrame.copy())\n",
    "        gc.collect()\n",
    "milestoneSimulationsData=pd.concat(tempFrames)\n",
    "milestoneSimulationsData"
   ]
  },
  {
   "cell_type": "code",
   "execution_count": 26,
   "metadata": {
    "scrolled": true
   },
   "outputs": [
    {
     "name": "stderr",
     "output_type": "stream",
     "text": [
      "/data/lyna/Milestone_Error_Analysis_Testing/analysis_functions.py:429: SettingWithCopyWarning: \n",
      "A value is trying to be set on a copy of a slice from a DataFrame.\n",
      "Try using .loc[row_indexer,col_indexer] = value instead\n",
      "\n",
      "See the caveats in the documentation: https://pandas.pydata.org/pandas-docs/stable/user_guide/indexing.html#returning-a-view-versus-a-copy\n",
      "  simData[groupingCol]=0\n",
      "/data/lyna/Milestone_Error_Analysis_Testing/analysis_functions.py:436: SettingWithCopyWarning: \n",
      "A value is trying to be set on a copy of a slice from a DataFrame.\n",
      "Try using .loc[row_indexer,col_indexer] = value instead\n",
      "\n",
      "See the caveats in the documentation: https://pandas.pydata.org/pandas-docs/stable/user_guide/indexing.html#returning-a-view-versus-a-copy\n",
      "  simData[repCol]=0\n"
     ]
    },
    {
     "name": "stdout",
     "output_type": "stream",
     "text": [
      "--- --- --- Grouping Name: 0 --- --- ---\n",
      "\t--- --- Window Name: 0 --- ---\n",
      "\t\t--- Replica Name: 0 ---\n",
      "\t--- --- ------ --- ---\n",
      "\t--- --- Window Name: 1 --- ---\n",
      "\t\t--- Replica Name: 0 ---\n",
      "\t--- --- ------ --- ---\n",
      "\t--- --- Window Name: 2 --- ---\n",
      "\t\t--- Replica Name: 0 ---\n",
      "\t--- --- ------ --- ---\n",
      "\t--- --- Window Name: 3 --- ---\n",
      "\t\t--- Replica Name: 0 ---\n",
      "\t--- --- ------ --- ---\n",
      "\t--- --- Window Name: 4 --- ---\n",
      "\t\t--- Replica Name: 0 ---\n",
      "\t--- --- ------ --- ---\n",
      "\t--- --- Window Name: 5 --- ---\n",
      "\t\t--- Replica Name: 0 ---\n",
      "\t--- --- ------ --- ---\n",
      "\t--- --- Window Name: 6 --- ---\n",
      "\t\t--- Replica Name: 0 ---\n",
      "\t--- --- ------ --- ---\n",
      "\t--- --- Window Name: 7 --- ---\n",
      "\t\t--- Replica Name: 0 ---\n",
      "\t--- --- ------ --- ---\n",
      "\t--- --- Window Name: 8 --- ---\n",
      "\t\t--- Replica Name: 0 ---\n",
      "\t--- --- ------ --- ---\n",
      "\t--- --- Window Name: 9 --- ---\n",
      "\t\t--- Replica Name: 0 ---\n",
      "\t--- --- ------ --- ---\n",
      "\t--- --- Window Name: 10 --- ---\n",
      "\t\t--- Replica Name: 0 ---\n",
      "\t--- --- ------ --- ---\n",
      "\t--- --- Window Name: 11 --- ---\n",
      "\t\t--- Replica Name: 0 ---\n",
      "\t--- --- ------ --- ---\n",
      "\t--- --- Window Name: 12 --- ---\n",
      "\t\t--- Replica Name: 0 ---\n",
      "\t--- --- ------ --- ---\n",
      "\t--- --- Window Name: 13 --- ---\n",
      "\t\t--- Replica Name: 0 ---\n",
      "\t--- --- ------ --- ---\n",
      "\t--- --- Window Name: 14 --- ---\n",
      "\t\t--- Replica Name: 0 ---\n",
      "\t--- --- ------ --- ---\n",
      "\t--- --- Window Name: 15 --- ---\n",
      "\t\t--- Replica Name: 0 ---\n",
      "\t--- --- ------ --- ---\n",
      "\t--- --- Window Name: 16 --- ---\n",
      "\t\t--- Replica Name: 0 ---\n",
      "\t--- --- ------ --- ---\n",
      "--- --- --- ------ --- --- ---\n"
     ]
    },
    {
     "data": {
      "text/html": [
       "<div>\n",
       "<style scoped>\n",
       "    .dataframe tbody tr th:only-of-type {\n",
       "        vertical-align: middle;\n",
       "    }\n",
       "\n",
       "    .dataframe tbody tr th {\n",
       "        vertical-align: top;\n",
       "    }\n",
       "\n",
       "    .dataframe thead th {\n",
       "        text-align: right;\n",
       "    }\n",
       "</style>\n",
       "<table border=\"1\" class=\"dataframe\">\n",
       "  <thead>\n",
       "    <tr style=\"text-align: right;\">\n",
       "      <th></th>\n",
       "      <th>Window</th>\n",
       "      <th>X_Ind</th>\n",
       "      <th>Group</th>\n",
       "      <th>Rep</th>\n",
       "      <th>Frame</th>\n",
       "      <th>Escape_Vector</th>\n",
       "      <th>Reentry_Vector</th>\n",
       "      <th>X</th>\n",
       "    </tr>\n",
       "  </thead>\n",
       "  <tbody>\n",
       "    <tr>\n",
       "      <th>0</th>\n",
       "      <td>0</td>\n",
       "      <td>0</td>\n",
       "      <td>0</td>\n",
       "      <td>0</td>\n",
       "      <td>0</td>\n",
       "      <td>0</td>\n",
       "      <td>-1</td>\n",
       "      <td>-7.529412</td>\n",
       "    </tr>\n",
       "    <tr>\n",
       "      <th>1</th>\n",
       "      <td>0</td>\n",
       "      <td>1</td>\n",
       "      <td>0</td>\n",
       "      <td>0</td>\n",
       "      <td>1</td>\n",
       "      <td>1</td>\n",
       "      <td>-1</td>\n",
       "      <td>-7.017491</td>\n",
       "    </tr>\n",
       "    <tr>\n",
       "      <th>2</th>\n",
       "      <td>0</td>\n",
       "      <td>0</td>\n",
       "      <td>0</td>\n",
       "      <td>0</td>\n",
       "      <td>2</td>\n",
       "      <td>0</td>\n",
       "      <td>1</td>\n",
       "      <td>-7.117359</td>\n",
       "    </tr>\n",
       "    <tr>\n",
       "      <th>3</th>\n",
       "      <td>0</td>\n",
       "      <td>0</td>\n",
       "      <td>0</td>\n",
       "      <td>0</td>\n",
       "      <td>3</td>\n",
       "      <td>0</td>\n",
       "      <td>1</td>\n",
       "      <td>-7.391263</td>\n",
       "    </tr>\n",
       "    <tr>\n",
       "      <th>4</th>\n",
       "      <td>0</td>\n",
       "      <td>0</td>\n",
       "      <td>0</td>\n",
       "      <td>0</td>\n",
       "      <td>4</td>\n",
       "      <td>0</td>\n",
       "      <td>1</td>\n",
       "      <td>-7.213458</td>\n",
       "    </tr>\n",
       "    <tr>\n",
       "      <th>...</th>\n",
       "      <td>...</td>\n",
       "      <td>...</td>\n",
       "      <td>...</td>\n",
       "      <td>...</td>\n",
       "      <td>...</td>\n",
       "      <td>...</td>\n",
       "      <td>...</td>\n",
       "      <td>...</td>\n",
       "    </tr>\n",
       "    <tr>\n",
       "      <th>8499995</th>\n",
       "      <td>16</td>\n",
       "      <td>16</td>\n",
       "      <td>0</td>\n",
       "      <td>0</td>\n",
       "      <td>499995</td>\n",
       "      <td>16</td>\n",
       "      <td>15</td>\n",
       "      <td>7.142526</td>\n",
       "    </tr>\n",
       "    <tr>\n",
       "      <th>8499996</th>\n",
       "      <td>16</td>\n",
       "      <td>16</td>\n",
       "      <td>0</td>\n",
       "      <td>0</td>\n",
       "      <td>499996</td>\n",
       "      <td>16</td>\n",
       "      <td>15</td>\n",
       "      <td>7.314528</td>\n",
       "    </tr>\n",
       "    <tr>\n",
       "      <th>8499997</th>\n",
       "      <td>16</td>\n",
       "      <td>16</td>\n",
       "      <td>0</td>\n",
       "      <td>0</td>\n",
       "      <td>499997</td>\n",
       "      <td>16</td>\n",
       "      <td>15</td>\n",
       "      <td>7.249353</td>\n",
       "    </tr>\n",
       "    <tr>\n",
       "      <th>8499998</th>\n",
       "      <td>16</td>\n",
       "      <td>15</td>\n",
       "      <td>0</td>\n",
       "      <td>0</td>\n",
       "      <td>499998</td>\n",
       "      <td>15</td>\n",
       "      <td>15</td>\n",
       "      <td>6.773299</td>\n",
       "    </tr>\n",
       "    <tr>\n",
       "      <th>8499999</th>\n",
       "      <td>16</td>\n",
       "      <td>16</td>\n",
       "      <td>0</td>\n",
       "      <td>0</td>\n",
       "      <td>499999</td>\n",
       "      <td>16</td>\n",
       "      <td>15</td>\n",
       "      <td>7.419008</td>\n",
       "    </tr>\n",
       "  </tbody>\n",
       "</table>\n",
       "<p>8500000 rows × 8 columns</p>\n",
       "</div>"
      ],
      "text/plain": [
       "         Window  X_Ind  Group  Rep   Frame  Escape_Vector  Reentry_Vector  \\\n",
       "0             0      0      0    0       0              0              -1   \n",
       "1             0      1      0    0       1              1              -1   \n",
       "2             0      0      0    0       2              0               1   \n",
       "3             0      0      0    0       3              0               1   \n",
       "4             0      0      0    0       4              0               1   \n",
       "...         ...    ...    ...  ...     ...            ...             ...   \n",
       "8499995      16     16      0    0  499995             16              15   \n",
       "8499996      16     16      0    0  499996             16              15   \n",
       "8499997      16     16      0    0  499997             16              15   \n",
       "8499998      16     15      0    0  499998             15              15   \n",
       "8499999      16     16      0    0  499999             16              15   \n",
       "\n",
       "                X  \n",
       "0       -7.529412  \n",
       "1       -7.017491  \n",
       "2       -7.117359  \n",
       "3       -7.391263  \n",
       "4       -7.213458  \n",
       "...           ...  \n",
       "8499995  7.142526  \n",
       "8499996  7.314528  \n",
       "8499997  7.249353  \n",
       "8499998  6.773299  \n",
       "8499999  7.419008  \n",
       "\n",
       "[8500000 rows x 8 columns]"
      ]
     },
     "execution_count": 26,
     "metadata": {},
     "output_type": "execute_result"
    }
   ],
   "source": [
    "milestoneData=analysis_functions.add_indexed_milestoning_analysis_columns(\n",
    "    milestoneSimulationsData,\n",
    "    windowColumn='Window',xIndexColumn='X_Ind',frameCol='Frame',\n",
    "    repColumn=None,groupingColumn=None,verbose=True,\n",
    "    verboseLevel=0\n",
    ")\n",
    "milestoneData[\"X\"]=milestoneSimulationsData.X\n",
    "milestoneData"
   ]
  },
  {
   "cell_type": "code",
   "execution_count": 27,
   "metadata": {},
   "outputs": [
    {
     "name": "stdout",
     "output_type": "stream",
     "text": [
      "binSet [ 0  1  2  3  4  5  6  7  8  9 10 11 12 13 14 15 16]\n",
      "testEscapeData: {'piVec': array([0.00064673, 0.02802529, 0.12591584, 0.14759112, 0.09023662,\n",
      "       0.04644309, 0.02647488, 0.0188854 , 0.01676047, 0.01893718,\n",
      "       0.0273927 , 0.0479631 , 0.0932472 , 0.15290251, 0.12978363,\n",
      "       0.02814088, 0.00065335]), 'escapeMat': <17x17 sparse matrix of type '<class 'numpy.float64'>'\n",
      "\twith 49 stored elements in List of Lists format>, 'counts': array([339671, 411029, 438279, 436365, 431653, 430319, 430410, 431870,\n",
      "       431947, 431628, 430759, 430296, 432018, 436388, 438407, 410710,\n",
      "       339649]), 'bins': array([ 0,  1,  2,  3,  4,  5,  6,  7,  8,  9, 10, 11, 12, 13, 14, 15, 16]), 'binMap': {0: 0, 1: 1, 2: 2, 3: 3, 4: 4, 5: 5, 6: 6, 7: 7, 8: 8, 9: 9, 10: 10, 11: 11, 12: 12, 13: 13, 14: 14, 15: 15, 16: 16}, 'binSetMap': {0: 0, 1: 1, 2: 2, 3: 3, 4: 4, 5: 5, 6: 6, 7: 7, 8: 8, 9: 9, 10: 10, 11: 11, 12: 12, 13: 13, 14: 14, 15: 15, 16: 16}, 'countsMat': <17x17 sparse matrix of type '<class 'numpy.float64'>'\n",
      "\twith 49 stored elements in List of Lists format>}\n"
     ]
    }
   ],
   "source": [
    "#################### pi_vector and PMF ################\n",
    "\n",
    "kb=0.001985875 #kcal/mol\n",
    "simTemp=310.15\n",
    "kbT=kb*simTemp\n",
    "\n",
    "analysisFrame=milestoneData\n",
    "binSet=np.sort(np.unique(np.concatenate([\n",
    "    analysisFrame['Window'].unique(),\n",
    "    analysisFrame['X_Ind'].unique()\n",
    "])))\n",
    "print(\"binSet\",binSet)\n",
    "\n",
    "testEscapeData=analysis_functions.compute_analysis_group_pi_vector(\n",
    "    groupDataFrame=analysisFrame,windowColumn='Window',binSet=binSet,\n",
    "    giveEscapeMat=True,giveCounts=True,giveBins=True,giveBinMap=True,\n",
    "    giveCountsMat=True)\n",
    "print('testEscapeData:',testEscapeData)\n",
    "\n",
    "# escapeMat is the number of escape per frame, kij and kji, row sum must be 1\n"
   ]
  },
  {
   "cell_type": "code",
   "execution_count": 91,
   "metadata": {},
   "outputs": [
    {
     "name": "stdout",
     "output_type": "stream",
     "text": [
      "pmf [4.52305357 2.20169403 1.27627163 1.17844393 1.48148258 1.89058079\n",
      " 2.23674665 2.44480855 2.51832823 2.44312207 2.21575602 1.87074551\n",
      " 1.4612689  1.15666825 1.257637   2.19915884 4.51678062]\n",
      "window center [-7.52941176 -6.58823529 -5.64705882 -4.70588235 -3.76470588 -2.82352941\n",
      " -1.88235294 -0.94117647  0.          0.94117647  1.88235294  2.82352941\n",
      "  3.76470588  4.70588235  5.64705882  6.58823529  7.52941176]\n"
     ]
    },
    {
     "data": {
      "image/png": "[encoded data removed]",
      "text/plain": [
       "<Figure size 432x288 with 1 Axes>"
      ]
     },
     "metadata": {
      "needs_background": "light"
     },
     "output_type": "display_data"
    }
   ],
   "source": [
    "piVec=testEscapeData['piVec']\n",
    "#sns.lineplot(np.arange(len(piVec)),piVec, marker='o', color='g', label=\"piVec\")\n",
    "pmfVec=-kbT*np.log(testEscapeData['piVec'])\n",
    "print(\"pmf\", pmfVec)\n",
    "pmfVec=pmfVec-np.min(pmfVec)\n",
    "xgrid=symm_window_centers\n",
    "print(\"window center\",xgrid)\n",
    "sns.lineplot(\n",
    "    x=xgrid,\n",
    "    y=pmfVec, marker='o',label=\"pmf from milestoning\")\n",
    "\n",
    "sns.lineplot(\n",
    "    x=xgrid,\n",
    "    y=potFun(xgrid)-np.min(potFun(xgrid)),\n",
    "    label='U(X) (kcal/mol)'\n",
    ")\n",
    "offset=np.min(potFun(xgrid))\n",
    "sns.scatterplot(x=xgrid, y=-kbT*np.log((normHist)/np.max(normHist)), color='r', label=\"PMF from brite-force\")\n",
    "plt.ylim(-0.05, 1.80)\n",
    "plt.grid()\n",
    "plt.show()"
   ]
  },
  {
   "cell_type": "code",
   "execution_count": 97,
   "metadata": {},
   "outputs": [
    {
     "name": "stdout",
     "output_type": "stream",
     "text": [
      "binEdges [-8.         -7.05882353 -6.11764706 -5.17647059 -4.23529412 -3.29411765\n",
      " -2.35294118 -1.41176471 -0.47058824  0.47058824  1.41176471  2.35294118\n",
      "  3.29411765  4.23529412  5.17647059  6.11764706  7.05882353  8.        ]\n",
      "binCenters [-7.52941176 -6.58823529 -5.64705882 -4.70588235 -3.76470588 -2.82352941\n",
      " -1.88235294 -0.94117647  0.          0.94117647  1.88235294  2.82352941\n",
      "  3.76470588  4.70588235  5.64705882  6.58823529  7.52941176]\n",
      "kbT 0.6159191312499999\n",
      "-1.717590452493373\n"
     ]
    },
    {
     "data": {
      "image/png": "[encoded data removed]",
      "text/plain": [
       "<Figure size 432x288 with 1 Axes>"
      ]
     },
     "metadata": {
      "needs_background": "light"
     },
     "output_type": "display_data"
    }
   ],
   "source": [
    "binEdges=np.linspace(-8,8,18)\n",
    "binCenters=(binEdges[:-1]+binEdges[1:])/2.\n",
    "print(\"binEdges\", binEdges)\n",
    "print(\"binCenters\",binCenters)\n",
    "print(\"kbT\", kbT)\n",
    "\n",
    "sns.lineplot(\n",
    "    x=xgrid,\n",
    "    y=potFun(xgrid)-np.min(potFun(xgrid)),\n",
    "    label='U(X) (kcal/mol)'\n",
    ")\n",
    "offset=np.min(potFun(binEdges))\n",
    "print(offset)"
   ]
  },
  {
   "cell_type": "code",
   "execution_count": 37,
   "metadata": {},
   "outputs": [
    {
     "name": "stdout",
     "output_type": "stream",
     "text": [
      "[4.52305357 2.20169403 1.27627163 1.17844393 1.48148258 1.89058079\n",
      " 2.23674665 2.44480855 2.51832823 2.44312207 2.21575602 1.87074551\n",
      " 1.4612689  1.15666825 1.257637   2.19915884 4.51678062]\n"
     ]
    }
   ],
   "source": [
    "print(-kbT*np.log(testEscapeData['piVec']))"
   ]
  },
  {
   "cell_type": "code",
   "execution_count": 132,
   "metadata": {},
   "outputs": [
    {
     "name": "stdout",
     "output_type": "stream",
     "text": [
      "[-8. -4.  0.  4.  8.]\n",
      "0 -8.0 1 -4.0\n",
      "1 -4.0 2 0.0\n",
      "2 0.0 3 4.0\n",
      "3 4.0 4 8.0\n"
     ]
    }
   ],
   "source": [
    "V1 = 0.1*((1/2000)*xx**6-xx**2)\n",
    "xedge=np.linspace(-8,8,5)\n",
    "print(xedge)\n",
    "for i in np.arange(0,4):\n",
    "    print(i, xedge[i], i+1, xedge[i+1])\n",
    "    print(-kbT*np.log(np.trapz(x, np.exp(-V1/kbT))))\n"
   ]
  },
  {
   "cell_type": "code",
   "execution_count": 125,
   "metadata": {},
   "outputs": [
    {
     "name": "stdout",
     "output_type": "stream",
     "text": [
      "0 -8.0 1 -7.0588235294117645\n",
      "1 -7.0588235294117645 2 -6.117647058823529\n",
      "2 -6.117647058823529 3 -5.176470588235294\n",
      "3 -5.176470588235294 4 -4.235294117647059\n",
      "4 -4.235294117647059 5 -3.2941176470588234\n",
      "5 -3.2941176470588234 6 -2.3529411764705888\n",
      "6 -2.3529411764705888 7 -1.4117647058823533\n",
      "7 -1.4117647058823533 8 -0.47058823529411775\n",
      "8 -0.47058823529411775 9 0.47058823529411775\n",
      "9 0.47058823529411775 10 1.4117647058823533\n",
      "10 1.4117647058823533 11 2.3529411764705888\n",
      "11 2.3529411764705888 12 3.2941176470588225\n",
      "12 3.2941176470588225 13 4.235294117647058\n",
      "13 4.235294117647058 14 5.1764705882352935\n"
     ]
    },
    {
     "name": "stderr",
     "output_type": "stream",
     "text": [
      "/cm/shared/apps/jupyter/11.0.0/lib/python3.7/site-packages/ipykernel_launcher.py:7: RuntimeWarning: invalid value encountered in log\n",
      "  import sys\n",
      "/cm/shared/apps/jupyter/11.0.0/lib/python3.7/site-packages/ipykernel_launcher.py:7: RuntimeWarning: invalid value encountered in log\n",
      "  import sys\n",
      "/cm/shared/apps/jupyter/11.0.0/lib/python3.7/site-packages/ipykernel_launcher.py:7: RuntimeWarning: invalid value encountered in log\n",
      "  import sys\n",
      "/cm/shared/apps/jupyter/11.0.0/lib/python3.7/site-packages/ipykernel_launcher.py:7: RuntimeWarning: invalid value encountered in log\n",
      "  import sys\n",
      "/cm/shared/apps/jupyter/11.0.0/lib/python3.7/site-packages/ipykernel_launcher.py:7: RuntimeWarning: invalid value encountered in log\n",
      "  import sys\n",
      "/cm/shared/apps/jupyter/11.0.0/lib/python3.7/site-packages/ipykernel_launcher.py:7: RuntimeWarning: invalid value encountered in log\n",
      "  import sys\n",
      "/cm/shared/apps/jupyter/11.0.0/lib/python3.7/site-packages/ipykernel_launcher.py:7: RuntimeWarning: invalid value encountered in log\n",
      "  import sys\n",
      "/cm/shared/apps/jupyter/11.0.0/lib/python3.7/site-packages/ipykernel_launcher.py:7: RuntimeWarning: invalid value encountered in log\n",
      "  import sys\n"
     ]
    },
    {
     "name": "stdout",
     "output_type": "stream",
     "text": [
      "14 5.1764705882352935 15 6.117647058823529\n",
      "15 6.117647058823529 16 7.0588235294117645\n",
      "16 7.0588235294117645 17 8.0\n"
     ]
    },
    {
     "data": {
      "image/png": "[encoded data removed]",
      "text/plain": [
       "<Figure size 432x288 with 1 Axes>"
      ]
     },
     "metadata": {
      "needs_background": "light"
     },
     "output_type": "display_data"
    }
   ],
   "source": [
    "V1 = 0.1*((1/2000)*xx**6-xx**2)\n",
    "for ii in np.arange(0,17):\n",
    "    print(ii, binEdges[ii], ii+1, binEdges[ii+1])\n",
    "    xx=np.linspace(binEdges[ii],binEdges[ii+1],20)\n",
    "    #sns.scatterplot(x=xx, y=V1/kbT, alpha=0.1)\n",
    "    #print(-kbT*np.log(np.trapz(xx, np.exp(-V1/kbT))))\n",
    "    sns.scatterplot(x=xx, y=-kbT*np.log(np.trapz(xx, np.exp(-V1/kbT))))\n",
    "#plt.ylim(-1, 2)\n",
    "plt.grid()\n",
    "plt.show()\n",
    "    #sns.scatterplot(np.exp(-potFun(xx)/kbT))\n",
    "    #plt.show()\n",
    "    #print(-kbT*np.log(np.trapz(xx,np.exp(-potFun(xx)/kbT))))"
   ]
  },
  {
   "cell_type": "code",
   "execution_count": null,
   "metadata": {},
   "outputs": [],
   "source": []
  }
 ],
 "metadata": {
  "kernelspec": {
   "display_name": "Python 3",
   "language": "python",
   "name": "python3"
  },
  "language_info": {
   "codemirror_mode": {
    "name": "ipython",
    "version": 3
   },
   "file_extension": ".py",
   "mimetype": "text/x-python",
   "name": "python",
   "nbconvert_exporter": "python",
   "pygments_lexer": "ipython3",
   "version": "3.7.5"
  }
 },
 "nbformat": 4,
 "nbformat_minor": 4
}
